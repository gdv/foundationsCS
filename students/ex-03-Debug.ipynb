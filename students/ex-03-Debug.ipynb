{
 "cells": [
  {
   "cell_type": "markdown",
   "metadata": {},
   "source": [
    "# Debugging and Fixing errors\n",
    "\n",
    "The following code snippets have bugs; fix them."
   ]
  },
  {
   "cell_type": "markdown",
   "metadata": {},
   "source": [
    "## Code snippet \\#1\n",
    "\n",
    "The function `create_list(x, count)` should return a list composed by \"count\" elements and each element should be set to \"x\"."
   ]
  },
  {
   "cell_type": "markdown",
   "metadata": {},
   "source": [
    "## Code snippet \\#2\n",
    "\n",
    "The function `create_dict(kv)` accepts a list composed by pairs.\n",
    "Each pair is composed by two elements: a key (first element) and a value (second element).\n",
    "The function must return a dictionary that maps each key to the corresponding value."
   ]
  },
  {
   "cell_type": "markdown",
   "metadata": {},
   "source": [
    "## Code snippet \\#3\n",
    "\n",
    "The function `append_element_to_list` accepts two arguments (an element and a list) and returns the concatenation of the two (the element is appended at the end of the list).\n",
    "\n",
    "The second argument is optional and, if missing, the empty list must be used as second argument."
   ]
  },
  {
   "cell_type": "markdown",
   "metadata": {},
   "source": [
    "# Tests\n",
    "\n",
    "Do NOT modify the next cell but run it as-is.  To fix failures in the tests, modify the code in the previous cells."
   ]
  }
 ],
 "metadata": {
  "kernelspec": {
   "display_name": "Python 3 (ipykernel)",
   "language": "python",
   "name": "python3"
  },
  "language_info": {
   "codemirror_mode": {
    "name": "ipython",
    "version": 3
   },
   "file_extension": ".py",
   "mimetype": "text/x-python",
   "name": "python",
   "nbconvert_exporter": "python",
   "pygments_lexer": "ipython3",
   "version": "3.10.6"
  }
 },
 "nbformat": 4,
 "nbformat_minor": 4
}
