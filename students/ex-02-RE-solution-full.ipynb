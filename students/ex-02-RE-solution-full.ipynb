{
 "cells": [
  {
   "cell_type": "markdown",
   "metadata": {},
   "source": [
    "# Regular Expression\n",
    "\n",
    "![title](https://imgs.xkcd.com/comics/regular_expressions.png)\n",
    "\n",
    "A **regular expression** (RE) is a compact notation for representing a collection of strings.\n",
    "REs are defined using a mini-language different from Python and are used to search and substitute patterns and to parse, split, and validate strings.\n",
    "\n",
    "In Python, REs and REs functionalities are defined in the `re` module."
   ]
  },
  {
   "cell_type": "markdown",
   "metadata": {},
   "source": [
    "The most common task with REs is to search a given pattern in a string.\n",
    "Let's start with searching a single character in a string."
   ]
  },
  {
   "cell_type": "markdown",
   "metadata": {},
   "source": [
    "`re.search` returns a [Match object](https://docs.python.org/3/library/re.html#match-objects)."
   ]
  },
  {
   "cell_type": "markdown",
   "metadata": {},
   "source": [
    "The Match object evaluate to True if the pattern appears in the string, otherwise it is None."
   ]
  },
  {
   "cell_type": "markdown",
   "metadata": {},
   "source": [
    "The match object can be queried to retrieve the information about the match occurrence."
   ]
  },
  {
   "cell_type": "markdown",
   "metadata": {},
   "source": [
    "## Basics of the RE langage\n",
    "\n",
    "In a RE every character matches itself except for the following characters.\n",
    "\n",
    "| Character | Meaning |\n",
    "|:--- | :--- |\n",
    "| ^ | Beginning of line |\n",
    "| $ | End of line |\n",
    "| * | Match 0+ times the previous character in RE |\n",
    "| + | Match 1+ times the previous character in RE |\n",
    "| ? | Match 0 or 1 times the previous character in RE |\n",
    "\n",
    "It is possible to match any of the character in the previous table by \"escaping\" it using `\\`.  For example, `\\+` matches the character `+`.\n",
    "To group multiple characters just write them the correct sequence.\n",
    "\n",
    "Moreover, characters `[` and `]` are used to group together other characters in a character class.\n",
    "For example `[abcd]` means *\"any character between a, b, c and d\"*.\n",
    "`[abcd]` and `[a-d]` are the same character class.\n",
    "\n",
    "To match multiple patterns, group all the patterns between parentheses, and divide them using `|`.\n",
    "For example `(ab|ca|de)` matches `ab`, `ca`, and `de`.\n",
    "\n",
    "If `^` is inside a character class, it complements the elements inside the class.  This means that `[^a-d]` represents any character that is not a, b, c, nor d.\n",
    "\n",
    "For example, given the lyrics of this famous song"
   ]
  },
  {
   "cell_type": "markdown",
   "metadata": {},
   "source": [
    "If we want do something on all the verses but the chorus verses (\"La, la, la, la [...]\") we can use the following code snippets."
   ]
  },
  {
   "cell_type": "markdown",
   "metadata": {},
   "source": [
    "## Character Class Shorthands\n",
    "\n",
    "Python also defines some metacharacters for common character classes.\n",
    "\n",
    "| Character | Meaning |\n",
    "|:--- | :--- |\n",
    "| `.` | Any character |\n",
    "| `\\d` | Any digit, equivalent to `[0-9]` |\n",
    "| `\\D` | Any nondigit, equivalent to `[^0-9] |\n",
    "| `\\s` | Any whitespace (`\\t`, `\\n`, ...) |\n",
    "| `\\S` | Any nonwhitespace |\n",
    "| `\\w` | Any word character, equivalent to `[a-zA-Z0-9_]` |\n",
    "| `\\W` | Any nonword character |\n",
    "\n",
    "## Quantifiers\n",
    "\n",
    "A quantifier appears after an expression of a RE and has the form `{m, n}` where `m` and `n` are the minimum and maximum times the expression the quantifier applies to must match.\n",
    "\n",
    "For example\n",
    "```python\n",
    "re.search('(bla){2,100}', 'blablabla')\n",
    "```\n",
    "will return a match whereas\n",
    "```python\n",
    "re.search('(bla){4,100}', 'blablabla')\n",
    "```\n",
    "won't."
   ]
  },
  {
   "cell_type": "markdown",
   "metadata": {},
   "source": [
    "## Compiling REs\n",
    "\n",
    "Usually REs are applied over and over.\n",
    "To speed up the processing it is possible to *compile* the regular expression into a compiled regex object and use it as many times as we like.\n",
    "For example, we can rewrite one of the previous examples as follows."
   ]
  },
  {
   "cell_type": "markdown",
   "metadata": {},
   "source": [
    "## Compilation flags\n",
    "\n",
    "Compilation flags let you modify some aspects of how REs work and are passed as arguments to the `re.compile` function.\n",
    "The most important compilation flag for us will be `re.IGNORECASE` (also `re.I`) that enables to match RE in a case insensitive fashion.\n",
    "This means that a lowercase and uppercase character will be treated as the same element (i.e., there will be no distinction between `a` and `A`).\n",
    "For a more in-depth analysis of compilation flags please refer to the [documentation](https://docs.python.org/3.6/howto/regex.html#compilation-flags)."
   ]
  },
  {
   "cell_type": "markdown",
   "metadata": {},
   "source": [
    "# RE functions\n",
    "\n",
    "For now we only used the `re.search` function but there are many more.\n",
    "The following table summarizes the most important functions.\n",
    "\n",
    "| Function | Description |\n",
    "|:--- |:--- |\n",
    "| [`re.findall(string)`](https://docs.python.org/3/library/re.html#re.Pattern.findall) | Returns all nonoverlapping matches of the RE (as a list of strings)|\n",
    "| [`re.match(string)`](https://docs.python.org/3/library/re.html#re.Pattern.match) | Returns a match object if the RE matches *at the start* of the string |\n",
    "| [`re.search(string)`](https://docs.python.org/3/library/re.html#re.Pattern.search) | Returns a match object if the RE matches anywhere in the string |\n",
    "| [`re.split(string)`](https://docs.python.org/3/library/re.html#re.Pattern.split) | Returns the list of strings that results from splitting string s on every occurrence of the RE |\n",
    "| [`re.sub(repl, string)`](https://docs.python.org/3/library/re.html#re.Pattern.sub) | Returns a coput of the string with every match of the RE replaced by `repl` |"
   ]
  },
  {
   "cell_type": "markdown",
   "metadata": {},
   "source": [
    "## Grouping\n",
    "\n",
    "Frequently you need to obtain more information than just whether the RE matched or not. Regular expressions are often used to dissect strings by writing a RE divided into several subgroups which match different components of interest [(see this linki)](https://docs.python.org/3/howto/regex.html#grouping).\n",
    "You can access the groups by using the `group()` method of the match.\n",
    "\n",
    "For example"
   ]
  },
  {
   "cell_type": "markdown",
   "metadata": {},
   "source": [
    "## Named groups\n",
    "\n",
    "Accessing groups by their position in the match is most of the times tedious.\n",
    "Python introduces **named group** to refer to each group using a key.\n",
    "The syntax for a named group is `(?P<key>*expression*)` were `<key>` is the key used and `*expression*` is the RE we're looking for."
   ]
  },
  {
   "cell_type": "markdown",
   "metadata": {},
   "source": [
    "## Backreferences\n",
    "\n",
    "Backreferences in a pattern allow you to specify that the contents of an earlier capturing group must also be found at the current location in the string. For example, `\\1` will succeed if the exact contents of group 1 can be found at the current position, and fails otherwise.\n",
    "\n",
    "Backreferences are usueful in many operations; for example if we want to detect doubled words in a string the following RE will suffice."
   ]
  },
  {
   "cell_type": "markdown",
   "metadata": {},
   "source": [
    "We can also use backreferences to remove doubled words from a sentence."
   ]
  },
  {
   "cell_type": "markdown",
   "metadata": {},
   "source": [
    "Note that this RE only works for non-overlapping matches!"
   ]
  },
  {
   "cell_type": "markdown",
   "metadata": {},
   "source": [
    "# Exercises\n",
    "\n",
    "\n"
   ]
  },
  {
   "cell_type": "markdown",
   "metadata": {},
   "source": [
    "**1)** The file `ex-data/numbers.txt` contains 10000 lines.  Each line contains either a number or a string, find how many even number are in the file."
   ]
  },
  {
   "cell_type": "markdown",
   "metadata": {},
   "source": [
    "**2)** The file `ex-data/email.txt` contains 80000 lines.\n",
    "Each line might start with some whitespaces (>=0), is followed by an email address, a number (>0) of spaces, and an age.\n",
    "Each email address is composed as follows:\n",
    "* a name\n",
    "* a separation character (either `.`, `_`, or `!`)\n",
    "* a surname\n",
    "* an optional integer number\n",
    "* a @ symbol\n",
    "* a domain\n",
    "\n",
    "Using REs and the concepts from previous lessons, find how many times each domain was used.\n",
    "\n",
    "Examples of possible lines in the file:\n",
    "```\n",
    "riva!menist57@bofthew.com   70  \n",
    "Brittan_Knorr69@tyldd.com            42  \n",
    "Cammy_Shawcroft@antichef.net           28  \n",
    "Lizzie!woolford@dispostable.com 75  \n",
    "Lurette_beachel@fakeinbox.com           48  \n",
    "moria.ivery54@twinmail.de          64  \n",
    "luciana.Leclaire48@gowikibooks.com       50  \n",
    "```   "
   ]
  },
  {
   "cell_type": "markdown",
   "metadata": {},
   "source": [
    "**3)** The file `ex-data/exp_nums.txt` contains 100 lines.  Each line contains a number in [E-notation](https://en.wikipedia.org/wiki/Scientific_notation#E-notation).  Convert each number to its decimal representation."
   ]
  },
  {
   "cell_type": "markdown",
   "metadata": {},
   "source": [
    "4) [CamelCase](https://en.wikipedia.org/wiki/Camel_case) and [snake_case](https://en.wikipedia.org/wiki/Snake_case) two different ways to name variables.  Write a function (`camel_to_snake`) that converts a string in CamelCase to snake_case."
   ]
  }
 ],
 "metadata": {
  "kernelspec": {
   "display_name": "Python 3 (ipykernel)",
   "language": "python",
   "name": "python3"
  },
  "language_info": {
   "codemirror_mode": {
    "name": "ipython",
    "version": 3
   },
   "file_extension": ".py",
   "mimetype": "text/x-python",
   "name": "python",
   "nbconvert_exporter": "python",
   "pygments_lexer": "ipython3",
   "version": "3.11.5"
  }
 },
 "nbformat": 4,
 "nbformat_minor": 4
}
