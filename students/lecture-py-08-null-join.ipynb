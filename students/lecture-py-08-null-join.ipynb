{
 "cells": [
  {
   "cell_type": "markdown",
   "metadata": {},
   "source": [
    "# Null values\n"
   ]
  },
  {
   "cell_type": "code",
   "execution_count": 1,
   "metadata": {
    "tags": [
     "show"
    ]
   },
   "outputs": [],
   "source": [
    "import pandas as pd\n",
    "import numpy as np"
   ]
  },
  {
   "cell_type": "markdown",
   "metadata": {},
   "source": [
    "We will work on the `orders` and `order_details` dataframes."
   ]
  },
  {
   "cell_type": "code",
   "execution_count": 2,
   "metadata": {
    "editable": true,
    "slideshow": {
     "slide_type": ""
    },
    "tags": [
     "show"
    ]
   },
   "outputs": [],
   "source": [
    "orders = pd.read_csv(\"https://github.com/gdv/foundationsCS/raw/main/students/ex-data/Northwind/Orders.csv\", \n",
    "                     parse_dates=['OrderDate'],\n",
    "                     date_format = '%Y-%m-%d-%H-%M-%S'\n",
    ")"
   ]
  },
  {
   "cell_type": "code",
   "execution_count": 3,
   "metadata": {
    "editable": true,
    "slideshow": {
     "slide_type": ""
    },
    "tags": [
     "show"
    ]
   },
   "outputs": [
    {
     "data": {
      "text/plain": [
       "0       2012-07-04 00:00:00\n",
       "1       2012-07-05 00:00:00\n",
       "2       2012-07-08 00:00:00\n",
       "3       2012-07-08 00:00:00\n",
       "4       2012-07-09 00:00:00\n",
       "                ...        \n",
       "16813   2013-06-29 21:05:55\n",
       "16814   2014-01-19 12:27:11\n",
       "16815   2014-10-15 09:51:09\n",
       "16816   2013-02-07 02:06:05\n",
       "16817   2013-08-31 02:59:28\n",
       "Name: OrderDate, Length: 16818, dtype: datetime64[ns]"
      ]
     },
     "execution_count": 3,
     "metadata": {},
     "output_type": "execute_result"
    }
   ],
   "source": [
    "pd.to_datetime(orders['OrderDate'], format='mixed')"
   ]
  },
  {
   "cell_type": "code",
   "execution_count": 4,
   "metadata": {
    "editable": true,
    "slideshow": {
     "slide_type": ""
    },
    "tags": [
     "show"
    ]
   },
   "outputs": [],
   "source": [
    "orders['OrderDate'] = pd.to_datetime(orders['OrderDate'], format='mixed')"
   ]
  },
  {
   "cell_type": "code",
   "execution_count": 6,
   "metadata": {
    "editable": true,
    "slideshow": {
     "slide_type": ""
    },
    "tags": [
     "show"
    ]
   },
   "outputs": [],
   "source": [
    "details = pd.read_csv(\"https://github.com/gdv/foundationsCS/raw/main/students/ex-data/Northwind/OrderDetails.csv\")"
   ]
  },
  {
   "cell_type": "markdown",
   "metadata": {
    "editable": true,
    "slideshow": {
     "slide_type": ""
    },
    "tags": []
   },
   "source": [
    "### Null values in Python"
   ]
  },
  {
   "cell_type": "markdown",
   "metadata": {},
   "source": [
    "### Looking for null values\n",
    "\n",
    "The `ShipPostalCode` column of `orders` contains some missing values."
   ]
  },
  {
   "cell_type": "markdown",
   "metadata": {},
   "source": [
    "### Extract the row with a missing `ShipPostalCode`\n",
    "\n",
    "It's a boolean mask, so we can use it to select the rows."
   ]
  },
  {
   "cell_type": "markdown",
   "metadata": {},
   "source": [
    "### How many rows have a missing `ShipPostalCode`?"
   ]
  },
  {
   "cell_type": "markdown",
   "metadata": {},
   "source": [
    "But that's a bit of a trick, since it exploits the numerical values associated to booleans. A cleaner way is the following."
   ]
  },
  {
   "cell_type": "markdown",
   "metadata": {},
   "source": [
    "Or we can exploit that a dataframe is also a list of rows."
   ]
  },
  {
   "cell_type": "markdown",
   "metadata": {},
   "source": [
    "### Extract the rows that do not have a missing `ShipPostalCode`"
   ]
  },
  {
   "cell_type": "markdown",
   "metadata": {},
   "source": [
    "### Remove all rows with a missing value"
   ]
  },
  {
   "cell_type": "markdown",
   "metadata": {},
   "source": [
    "`dropna` has an argument `how` that allows to remove the rows with at least a missing value or without missing values."
   ]
  },
  {
   "cell_type": "markdown",
   "metadata": {},
   "source": [
    "## Datetime values\n",
    "\n",
    "We convert datetime-like values to actual datetime values with the `.dt` converter. For this reason, we have read the `OrderDate` column with the `parse_dates` argument of `read_csv`."
   ]
  },
  {
   "cell_type": "markdown",
   "metadata": {},
   "source": [
    "There are several variables that can be extracted from a datetime Series."
   ]
  },
  {
   "cell_type": "markdown",
   "metadata": {},
   "source": [
    "## Join tables\n",
    "\n",
    "The pandas equivalent to a join is a `merge`."
   ]
  },
  {
   "cell_type": "markdown",
   "metadata": {},
   "source": [
    "Join the `orders` and `details` dataframes, exploiting the `Id` column of `orders` and `OrderId` of `details`."
   ]
  },
  {
   "cell_type": "markdown",
   "metadata": {},
   "source": [
    "If the columns used to link the dataframes have the same name in both, we can use the `on` argument.\n",
    "\n",
    "Notice that `Id` in `details` is not the one we have used."
   ]
  },
  {
   "cell_type": "markdown",
   "metadata": {},
   "source": [
    "What if both dataframes have `Id` as the index?"
   ]
  },
  {
   "cell_type": "markdown",
   "metadata": {},
   "source": [
    "\n",
    "Now we want to merge those dataframes."
   ]
  },
  {
   "cell_type": "markdown",
   "metadata": {},
   "source": [
    "We can compute an outer join too."
   ]
  }
 ],
 "metadata": {
  "kernelspec": {
   "display_name": "Python 3 (ipykernel)",
   "language": "python",
   "name": "python3"
  },
  "language_info": {
   "codemirror_mode": {
    "name": "ipython",
    "version": 3
   },
   "file_extension": ".py",
   "mimetype": "text/x-python",
   "name": "python",
   "nbconvert_exporter": "python",
   "pygments_lexer": "ipython3",
   "version": "3.11.5"
  }
 },
 "nbformat": 4,
 "nbformat_minor": 4
}
