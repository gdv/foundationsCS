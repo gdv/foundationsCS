{
 "cells": [
  {
   "cell_type": "markdown",
   "metadata": {},
   "source": [
    "## Read all input files and put the data in a single dataframe with an additional field *year*. \n",
    "\n",
    "Notice that the column names are not the same in all input files.\n",
    "The files are:\n",
    "*  [2015.csv](https://github.com/gdv/foundationsCS/raw/main/students/ex-data/world-happiness-report/2015.csv)\n",
    "*  [2016.csv](https://github.com/gdv/foundationsCS/raw/main/students/ex-data/world-happiness-report/2016.csv)\n",
    "*  [2017.csv](https://github.com/gdv/foundationsCS/raw/main/students/ex-data/world-happiness-report/2017.csv)"
   ]
  },
  {
   "cell_type": "code",
   "execution_count": 4,
   "metadata": {
    "tags": [
     "show"
    ]
   },
   "outputs": [],
   "source": [
    "h15 = pd.read_csv('https://github.com/gdv/foundationsCS/raw/main/students/ex-data/world-happiness-report/2015.csv')\n",
    "h16 = pd.read_csv('https://github.com/gdv/foundationsCS/raw/main/students/ex-data/world-happiness-report/2016.csv')"
   ]
  },
  {
   "cell_type": "markdown",
   "metadata": {},
   "source": [
    "Hint: check if we have missing values and if the dataframes have the same structure"
   ]
  },
  {
   "cell_type": "markdown",
   "metadata": {},
   "source": [
    "Now check if the dataframes have the same columns"
   ]
  },
  {
   "cell_type": "markdown",
   "metadata": {},
   "source": [
    "Now we are ready to concat those dataframe, but we know that we will obtain missing values is those columns.\n",
    "\n",
    "Another option is to drop all those columns."
   ]
  },
  {
   "cell_type": "markdown",
   "metadata": {},
   "source": [
    "As an additional test, I check all entries on Italy. I expect to obtain three rows, one for each year."
   ]
  },
  {
   "cell_type": "markdown",
   "metadata": {},
   "source": [
    "## Check that each nation is always placed in the same region."
   ]
  },
  {
   "cell_type": "markdown",
   "metadata": {},
   "source": [
    "## For each nation, compute the variation in the ranking between 2015 and 2017. Put the result in a variable called *variation*."
   ]
  },
  {
   "cell_type": "markdown",
   "metadata": {},
   "source": [
    "## Sort the nations according to *variation*"
   ]
  },
  {
   "cell_type": "markdown",
   "metadata": {},
   "source": [
    "## How many countries have improved their rankings?"
   ]
  },
  {
   "cell_type": "markdown",
   "metadata": {},
   "source": [
    "## Find the 15 countries that have improved their ranking the most."
   ]
  },
  {
   "cell_type": "markdown",
   "metadata": {},
   "source": [
    "## Among the European countries, which country has worsened its ranking the most?"
   ]
  },
  {
   "cell_type": "markdown",
   "metadata": {},
   "source": [
    "Hint: `Europe` is not a region, hence we have to extract all countries in a region whose name includes `Europe`"
   ]
  },
  {
   "cell_type": "markdown",
   "metadata": {},
   "source": [
    "## Sort the nations according to their *Health*."
   ]
  },
  {
   "cell_type": "markdown",
   "metadata": {},
   "source": [
    "## Add a new variable *Health_Rank* which is the ranking according to *Health*"
   ]
  },
  {
   "cell_type": "markdown",
   "metadata": {},
   "source": [
    "## For each region, count the number of countries such that *Happiness Rank* is not larger than the *Health Rank*"
   ]
  }
 ],
 "metadata": {
  "kernelspec": {
   "display_name": "Python 3 (ipykernel)",
   "language": "python",
   "name": "python3"
  },
  "language_info": {
   "codemirror_mode": {
    "name": "ipython",
    "version": 3
   },
   "file_extension": ".py",
   "mimetype": "text/x-python",
   "name": "python",
   "nbconvert_exporter": "python",
   "pygments_lexer": "ipython3",
   "version": "3.10.6"
  }
 },
 "nbformat": 4,
 "nbformat_minor": 4
}
