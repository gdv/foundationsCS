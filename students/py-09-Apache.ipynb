{
 "cells": [
  {
   "cell_type": "markdown",
   "metadata": {},
   "source": [
    "The Apache dataset contains the files [access.log](https://github.com/gdv/foundationsCS/raw/main/students/ex-data/apache/access.log) and [error.log](https://github.com/gdv/foundationsCS/raw/main/students/ex-data/apache/error.log) that contains the logfile of the accesses to a web server and the errors.\n",
    "The *access.log* is in [Common Log Format](https://en.wikipedia.org/wiki/Common_Log_Format).\n",
    "The entries in *error.log* usually have a corresponding entry in *access.log*"
   ]
  },
  {
   "cell_type": "markdown",
   "metadata": {},
   "source": [
    "## Read the file *access.log*. This file is not trivial to read correctly."
   ]
  },
  {
   "cell_type": "markdown",
   "metadata": {},
   "source": [
    "Hint: The first row of the file *access.log* does not contain the names of the columns: we can use the `names` option.\n",
    "\n",
    "Hint: We use a custom separator, otherwise the fields `type`, `url`, and `prot` would be combined together."
   ]
  },
  {
   "cell_type": "markdown",
   "metadata": {},
   "source": [
    "## Count the number of accesses (number of lines) made by an IP number"
   ]
  },
  {
   "cell_type": "markdown",
   "metadata": {},
   "source": [
    "## Count the number of successful accesses (status 200) made by an IP number"
   ]
  },
  {
   "cell_type": "markdown",
   "metadata": {},
   "source": [
    "## Count the number of accesses for each directory served"
   ]
  },
  {
   "cell_type": "markdown",
   "metadata": {},
   "source": [
    "## For each origin, count the number of successful accesses"
   ]
  },
  {
   "cell_type": "markdown",
   "metadata": {},
   "source": [
    "## For each origin, count the number of unsuccessful accesses, split according to the status code"
   ]
  },
  {
   "cell_type": "markdown",
   "metadata": {},
   "source": [
    "## From the results of the previous point, add a column with the error class (the first digit of the status code)"
   ]
  },
  {
   "cell_type": "markdown",
   "metadata": {},
   "source": [
    "## Cluster the accesses in 5-minutes time slices (e.g. from 14:00 to 14:05, from 14:05 to 14:10, etc). Count the number of accesses for each time slice"
   ]
  }
 ],
 "metadata": {
  "kernelspec": {
   "display_name": "Python 3 (ipykernel)",
   "language": "python",
   "name": "python3"
  },
  "language_info": {
   "codemirror_mode": {
    "name": "ipython",
    "version": 3
   },
   "file_extension": ".py",
   "mimetype": "text/x-python",
   "name": "python",
   "nbconvert_exporter": "python",
   "pygments_lexer": "ipython3",
   "version": "3.10.6"
  }
 },
 "nbformat": 4,
 "nbformat_minor": 4
}
