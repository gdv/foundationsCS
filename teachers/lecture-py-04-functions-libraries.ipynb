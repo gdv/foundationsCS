{
 "cells": [
  {
   "cell_type": "markdown",
   "metadata": {},
   "source": [
    "# Functions\n",
    "\n",
    "\"In the context of programming, a function is a named sequence of statements that performs a computation. When you define a function, you specify the name and the sequence of statements. Later, you can “call” the function by name\" (see [Think in Python - Chapter 3](http://greenteapress.com/thinkpython2/html/thinkpython2004.html)).\n",
    "\n",
    "Defining and writing functions if fundamental to avoid building complex (and bug-prone!) software.\n",
    "A function looks something like this\n",
    "```python\n",
    "def func_name(x, y=3):\n",
    "\t# Do whatever we want this function to do,\n",
    "\t#  using x and y.\n",
    "    # The result is stored in a variable z\n",
    "    return(z)\n",
    "\n",
    "# Use func_name to call the function.\n",
    "func_name(value_1, value_2)\n",
    "\n",
    "# Use func_name to call the function, without setting y.\n",
    "# y will be equal to 3 (default value)\n",
    "func_name(value_1)\n",
    "\n",
    "```\n",
    "\n",
    "Remember that you have to define a function **before** using them.\n",
    "\n",
    "The most essential parts of a function are its *input* parameters and the *output* value. Taken together, the input and the output parameters are called the *signature* of the function. "
   ]
  },
  {
   "cell_type": "markdown",
   "metadata": {},
   "source": [
    "Write a function `my_split_with_counts` that accepts a string `s` that contains only letters and spaces. The function returns a dictionary whose keys are the unique words in `s` and whose values are the number of occurrences of the key in `s`.\n",
    "\n",
    "A sample use of the function is the following."
   ]
  },
  {
   "cell_type": "markdown",
   "metadata": {
    "tags": [
     "show_output"
    ]
   },
   "source": [
    "```python\n",
    "my_split_with_counts(\"blow the wind blow\\\n",
    " swift and low\\\n",
    " blow the wind over the ocean\\\n",
    " breakers rolling to the coastline\\\n",
    " bringing ships to harbor\\\n",
    " gulls against the morning sunlight\\\n",
    " flying off to freedom\")\n",
    "```"
   ]
  },
  {
   "cell_type": "code",
   "execution_count": 4,
   "metadata": {},
   "outputs": [],
   "source": [
    "def my_split_with_counts(sequence):\n",
    "    words_dict = {}\n",
    "    for word in sequence.split(' '):\n",
    "        if word not in words_dict:\n",
    "            words_dict[word] = 1\n",
    "        else:\n",
    "            words_dict[word] += 1\n",
    "    return words_dict"
   ]
  },
  {
   "cell_type": "markdown",
   "metadata": {},
   "source": [
    "#### 6.4) Implement the `square_root_is_odd` function that returns `True` if the square root of the argument is odd, or `False` otherwise."
   ]
  },
  {
   "cell_type": "code",
   "execution_count": 5,
   "metadata": {},
   "outputs": [],
   "source": [
    "import math\n",
    "def square_root_is_odd(value):\n",
    "    if math.floor(value ** (1/2)) % 2 == 1:\n",
    "        return True\n",
    "    else:\n",
    "        return False"
   ]
  },
  {
   "cell_type": "code",
   "execution_count": 6,
   "metadata": {
    "tags": [
     "show"
    ]
   },
   "outputs": [
    {
     "name": "stdout",
     "output_type": "stream",
     "text": [
      "False\n",
      "True\n"
     ]
    }
   ],
   "source": [
    "print(square_root_is_odd(16))\n",
    "print(square_root_is_odd(81))"
   ]
  },
  {
   "cell_type": "markdown",
   "metadata": {},
   "source": [
    "## Libraries\n",
    "\n",
    "The [Python Standard Library](https://docs.python.org/3/library/) is a powerful help that provides many useful functionalities.\n",
    "Before using the functions of the Python Standard it is required to `import` the corresponding module.\n",
    "For example, if you want to use [`math.floor`](https://docs.python.org/3/library/math.html#math.floor) you'll have to import the `math` module before using it.\n",
    "\n",
    "There are (at least) three main ways to import functionalities from the Python Standard Library.\n",
    "\n",
    "1) Import the whole module\n",
    "```python\n",
    "import math\n",
    "math.floor(3/2)\n",
    "```\n",
    "2) Import the whole module and rename it\n",
    "```python\n",
    "import math as cool_stuff\n",
    "cool_stuff.floor(3/2)\n",
    "```\n",
    "\n",
    "3) Import all the functions of a module\n",
    "```python\n",
    "from math import *\n",
    "floor(3/2)\n",
    "```\n",
    "\n",
    "**Nevertheless, [it is usually NOT a good idea to `import *`](https://stackoverflow.com/questions/2386714/why-is-import-bad) so avoid using method 3.**"
   ]
  },
  {
   "cell_type": "markdown",
   "metadata": {},
   "source": [
    "#### 5.1) The [random modules](https://docs.python.org/3/library/random.html#module-random) implements pseudo-random number generators and provides functionalities to pick random elements from a sequence.  Use this module to select 3 Star Wars movies from `sw_movies` and print them. Hint: read the documentation of `random.sample`."
   ]
  },
  {
   "cell_type": "code",
   "execution_count": 7,
   "metadata": {
    "tags": [
     "show"
    ]
   },
   "outputs": [],
   "source": [
    "sw_movies = [\"The Phantom Menace\", \"Attack of the Clones\",\n",
    "             \"Revenge of the Sith\", \"A New Hope\",\n",
    "             \"The Empire Strikes Back\", \"Return of the Jedi\",\n",
    "             \"The Force Awakens\", \"The Last Jedi\"]"
   ]
  },
  {
   "cell_type": "code",
   "execution_count": 8,
   "metadata": {},
   "outputs": [
    {
     "name": "stdout",
     "output_type": "stream",
     "text": [
      "['The Force Awakens', 'Revenge of the Sith', 'A New Hope']\n"
     ]
    }
   ],
   "source": [
    "import random\n",
    "selected_movies = random.sample(sw_movies, 3)\n",
    "print(selected_movies)"
   ]
  },
  {
   "cell_type": "markdown",
   "metadata": {},
   "source": [
    "#### 5.2) Almost nobody likes \"The Phantom Menace\", pick 3 random Star Wars movies from `sw_movies` and store them in `my_favorite_sw_movies` until \"The Phantom Menace\" is not in `my_favorite_sw_movies`."
   ]
  },
  {
   "cell_type": "code",
   "execution_count": 9,
   "metadata": {},
   "outputs": [
    {
     "name": "stdout",
     "output_type": "stream",
     "text": [
      "The Phantom Menace avoided! Movies selected: {selected_movies}\n"
     ]
    }
   ],
   "source": [
    "selected_movies = []\n",
    "while True:\n",
    "    selected_movies = random.sample(sw_movies, 3)\n",
    "    if \"The Phantom Menace\" not in selected_movies:\n",
    "        break\n",
    "    else:\n",
    "        print(f\"Selection: {selected_movies}, let's retry\")\n",
    "print(\"The Phantom Menace avoided! Movies selected: {selected_movies}\")"
   ]
  },
  {
   "cell_type": "markdown",
   "metadata": {},
   "source": [
    "Clearly, each execution of the cell can produce a different result."
   ]
  }
 ],
 "metadata": {
  "celltoolbar": "Tags",
  "kernelspec": {
   "display_name": "Python 3 (ipykernel)",
   "language": "python",
   "name": "python3"
  },
  "language_info": {
   "codemirror_mode": {
    "name": "ipython",
    "version": 3
   },
   "file_extension": ".py",
   "mimetype": "text/x-python",
   "name": "python",
   "nbconvert_exporter": "python",
   "pygments_lexer": "ipython3",
   "version": "3.10.6"
  }
 },
 "nbformat": 4,
 "nbformat_minor": 4
}
