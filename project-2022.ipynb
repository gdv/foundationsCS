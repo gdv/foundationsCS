{
 "cells": [
  {
   "cell_type": "markdown",
   "id": "ec6f05cf-3769-4381-b7eb-a9d8de052d69",
   "metadata": {},
   "source": [
    "You have to work on the [Dogs adoptions](https://drive.google.com/file/d/1wQsA0oB6wwYlnkvvcyBCmLk7QmgVWNax/view?usp=sharing) dataset. \n",
    "\n",
    "It contains three files:\n",
    "*  `dogs.csv`, shortly *dogs*\n",
    "*  `dogTravel.csv`, shortly *travels*\n",
    "*  `NST-EST2021-POP.csv`\n",
    "\n",
    "### Notes\n",
    "\n",
    "1.    It is mandatory to use GitHub for developing the project.\n",
    "1.    The project must be a jupyter notebook.\n",
    "1.    There is no restriction on the libraries that can be used, nor on the Python version.\n",
    "1.    All questions on the project **must** be asked in a public channel on [Zulip](https://focs.zulipchat.com).\n",
    "1.    At most 3 students can be in each group. You must create the groups by yourself.\n",
    "1.    You do not have to send me the project *before* the discussion."
   ]
  },
  {
   "cell_type": "markdown",
   "id": "2d651640",
   "metadata": {},
   "source": [
    "### 0.1 Import csv file"
   ]
  },
  {
   "cell_type": "code",
   "execution_count": 7,
   "id": "98b1a1bf",
   "metadata": {},
   "outputs": [],
   "source": [
    "import pandas as pd\n",
    "from IPython.display import display\n",
    "# from itables import init_notebook_mode\n",
    "# init_notebook_mode(all_interactive=True)\n",
    "\n"
   ]
  },
  {
   "cell_type": "code",
   "execution_count": 8,
   "id": "c8e51a1d",
   "metadata": {},
   "outputs": [
    {
     "name": "stdout",
     "output_type": "stream",
     "text": [
      "id,org_id,url,type.x,species,breed_primary,breed_secondary,breed_mixed,breed_unknown,color_primary,color_secondary,color_tertiary,age,sex,size,coat,fixed,house_trained,declawed,special_needs,shots_current,env_children,env_dogs,env_cats,name,status,posted,contact_city,contact_state,contact_zip,contact_country,stateQ,accessed,type.y,description,stay_duration,stay_cost\n",
      "\n"
     ]
    }
   ],
   "source": [
    "with open(\"dogs.csv\", \"r\") as dogfile:\n",
    "    header_if_any = dogfile.readline()\n",
    "    print(header_if_any) "
   ]
  },
  {
   "cell_type": "code",
   "execution_count": 17,
   "id": "1b216cc9",
   "metadata": {},
   "outputs": [
    {
     "data": {
      "text/html": [
       "<div>\n",
       "<style scoped>\n",
       "    .dataframe tbody tr th:only-of-type {\n",
       "        vertical-align: middle;\n",
       "    }\n",
       "\n",
       "    .dataframe tbody tr th {\n",
       "        vertical-align: top;\n",
       "    }\n",
       "\n",
       "    .dataframe thead th {\n",
       "        text-align: right;\n",
       "    }\n",
       "</style>\n",
       "<table border=\"1\" class=\"dataframe\">\n",
       "  <thead>\n",
       "    <tr style=\"text-align: right;\">\n",
       "      <th></th>\n",
       "      <th>id</th>\n",
       "      <th>org_id</th>\n",
       "      <th>url</th>\n",
       "      <th>type.x</th>\n",
       "      <th>species</th>\n",
       "      <th>breed_primary</th>\n",
       "      <th>breed_secondary</th>\n",
       "      <th>breed_mixed</th>\n",
       "      <th>breed_unknown</th>\n",
       "      <th>color_primary</th>\n",
       "      <th>...</th>\n",
       "      <th>contact_city</th>\n",
       "      <th>contact_state</th>\n",
       "      <th>contact_zip</th>\n",
       "      <th>contact_country</th>\n",
       "      <th>stateQ</th>\n",
       "      <th>accessed</th>\n",
       "      <th>type.y</th>\n",
       "      <th>description</th>\n",
       "      <th>stay_duration</th>\n",
       "      <th>stay_cost</th>\n",
       "    </tr>\n",
       "  </thead>\n",
       "  <tbody>\n",
       "    <tr>\n",
       "      <th>0</th>\n",
       "      <td>46042150</td>\n",
       "      <td>NV163</td>\n",
       "      <td>https://www.petfinder.com/dog/harley-46042150/...</td>\n",
       "      <td>Dog</td>\n",
       "      <td>Dog</td>\n",
       "      <td>American Staffordshire Terrier</td>\n",
       "      <td>Mixed Breed</td>\n",
       "      <td>True</td>\n",
       "      <td>False</td>\n",
       "      <td>White / Cream</td>\n",
       "      <td>...</td>\n",
       "      <td>Las Vegas</td>\n",
       "      <td>NV</td>\n",
       "      <td>89147</td>\n",
       "      <td>US</td>\n",
       "      <td>89009</td>\n",
       "      <td>2019-09-20</td>\n",
       "      <td>Dog</td>\n",
       "      <td>Harley is not sure how he wound up at shelter ...</td>\n",
       "      <td>70</td>\n",
       "      <td>124.81</td>\n",
       "    </tr>\n",
       "    <tr>\n",
       "      <th>1</th>\n",
       "      <td>46042002</td>\n",
       "      <td>NV163</td>\n",
       "      <td>https://www.petfinder.com/dog/biggie-46042002/...</td>\n",
       "      <td>Dog</td>\n",
       "      <td>Dog</td>\n",
       "      <td>Pit Bull Terrier</td>\n",
       "      <td>Mixed Breed</td>\n",
       "      <td>True</td>\n",
       "      <td>False</td>\n",
       "      <td>Brown / Chocolate</td>\n",
       "      <td>...</td>\n",
       "      <td>Las Vegas</td>\n",
       "      <td>NV</td>\n",
       "      <td>89147</td>\n",
       "      <td>US</td>\n",
       "      <td>89009</td>\n",
       "      <td>2019-09-20</td>\n",
       "      <td>Dog</td>\n",
       "      <td>6 year old Biggie has lost his home and really...</td>\n",
       "      <td>49</td>\n",
       "      <td>122.07</td>\n",
       "    </tr>\n",
       "    <tr>\n",
       "      <th>2</th>\n",
       "      <td>46040898</td>\n",
       "      <td>NV99</td>\n",
       "      <td>https://www.petfinder.com/dog/ziggy-46040898/n...</td>\n",
       "      <td>Dog</td>\n",
       "      <td>Dog</td>\n",
       "      <td>Shepherd</td>\n",
       "      <td>NaN</td>\n",
       "      <td>False</td>\n",
       "      <td>False</td>\n",
       "      <td>Brindle</td>\n",
       "      <td>...</td>\n",
       "      <td>Mesquite</td>\n",
       "      <td>NV</td>\n",
       "      <td>89027</td>\n",
       "      <td>US</td>\n",
       "      <td>89009</td>\n",
       "      <td>2019-09-20</td>\n",
       "      <td>Dog</td>\n",
       "      <td>Approx 2 years old.\\n Did I catch your eye? I ...</td>\n",
       "      <td>87</td>\n",
       "      <td>281.51</td>\n",
       "    </tr>\n",
       "    <tr>\n",
       "      <th>3</th>\n",
       "      <td>46039877</td>\n",
       "      <td>NV202</td>\n",
       "      <td>https://www.petfinder.com/dog/gypsy-46039877/n...</td>\n",
       "      <td>Dog</td>\n",
       "      <td>Dog</td>\n",
       "      <td>German Shepherd Dog</td>\n",
       "      <td>NaN</td>\n",
       "      <td>False</td>\n",
       "      <td>False</td>\n",
       "      <td>NaN</td>\n",
       "      <td>...</td>\n",
       "      <td>Pahrump</td>\n",
       "      <td>NV</td>\n",
       "      <td>89048</td>\n",
       "      <td>US</td>\n",
       "      <td>89009</td>\n",
       "      <td>2019-09-20</td>\n",
       "      <td>Dog</td>\n",
       "      <td>NaN</td>\n",
       "      <td>62</td>\n",
       "      <td>145.83</td>\n",
       "    </tr>\n",
       "    <tr>\n",
       "      <th>4</th>\n",
       "      <td>46039306</td>\n",
       "      <td>NV184</td>\n",
       "      <td>https://www.petfinder.com/dog/theo-46039306/nv...</td>\n",
       "      <td>Dog</td>\n",
       "      <td>Dog</td>\n",
       "      <td>Dachshund</td>\n",
       "      <td>NaN</td>\n",
       "      <td>False</td>\n",
       "      <td>False</td>\n",
       "      <td>NaN</td>\n",
       "      <td>...</td>\n",
       "      <td>Henderson</td>\n",
       "      <td>NV</td>\n",
       "      <td>89052</td>\n",
       "      <td>US</td>\n",
       "      <td>89009</td>\n",
       "      <td>2019-09-20</td>\n",
       "      <td>Dog</td>\n",
       "      <td>Theo is a friendly dachshund mix who gets alon...</td>\n",
       "      <td>93</td>\n",
       "      <td>241.09</td>\n",
       "    </tr>\n",
       "  </tbody>\n",
       "</table>\n",
       "<p>5 rows × 37 columns</p>\n",
       "</div>"
      ],
      "text/plain": [
       "         id org_id                                                url type.x  \\\n",
       "0  46042150  NV163  https://www.petfinder.com/dog/harley-46042150/...    Dog   \n",
       "1  46042002  NV163  https://www.petfinder.com/dog/biggie-46042002/...    Dog   \n",
       "2  46040898   NV99  https://www.petfinder.com/dog/ziggy-46040898/n...    Dog   \n",
       "3  46039877  NV202  https://www.petfinder.com/dog/gypsy-46039877/n...    Dog   \n",
       "4  46039306  NV184  https://www.petfinder.com/dog/theo-46039306/nv...    Dog   \n",
       "\n",
       "  species                   breed_primary breed_secondary  breed_mixed  \\\n",
       "0     Dog  American Staffordshire Terrier     Mixed Breed         True   \n",
       "1     Dog                Pit Bull Terrier     Mixed Breed         True   \n",
       "2     Dog                        Shepherd             NaN        False   \n",
       "3     Dog             German Shepherd Dog             NaN        False   \n",
       "4     Dog                       Dachshund             NaN        False   \n",
       "\n",
       "   breed_unknown      color_primary  ... contact_city contact_state  \\\n",
       "0          False      White / Cream  ...    Las Vegas            NV   \n",
       "1          False  Brown / Chocolate  ...    Las Vegas            NV   \n",
       "2          False            Brindle  ...     Mesquite            NV   \n",
       "3          False                NaN  ...      Pahrump            NV   \n",
       "4          False                NaN  ...    Henderson            NV   \n",
       "\n",
       "  contact_zip contact_country stateQ    accessed  type.y  \\\n",
       "0       89147              US  89009  2019-09-20     Dog   \n",
       "1       89147              US  89009  2019-09-20     Dog   \n",
       "2       89027              US  89009  2019-09-20     Dog   \n",
       "3       89048              US  89009  2019-09-20     Dog   \n",
       "4       89052              US  89009  2019-09-20     Dog   \n",
       "\n",
       "                                         description  stay_duration  stay_cost  \n",
       "0  Harley is not sure how he wound up at shelter ...             70     124.81  \n",
       "1  6 year old Biggie has lost his home and really...             49     122.07  \n",
       "2  Approx 2 years old.\\n Did I catch your eye? I ...             87     281.51  \n",
       "3                                                NaN             62     145.83  \n",
       "4  Theo is a friendly dachshund mix who gets alon...             93     241.09  \n",
       "\n",
       "[5 rows x 37 columns]"
      ]
     },
     "execution_count": 17,
     "metadata": {},
     "output_type": "execute_result"
    }
   ],
   "source": [
    "tmp_dogs = pd.read_csv(\"dogs.csv\", sep=',', doublequote='\"', low_memory=False)\n",
    "tmp_dogs.head()"
   ]
  },
  {
   "cell_type": "code",
   "execution_count": 18,
   "id": "a6598861",
   "metadata": {
    "vscode": {
     "languageId": "shellscript"
    }
   },
   "outputs": [
    {
     "data": {
      "text/plain": [
       "Index(['id', 'org_id', 'url', 'type_x', 'species', 'breed_primary',\n",
       "       'breed_secondary', 'breed_mixed', 'breed_unknown', 'color_primary',\n",
       "       'color_secondary', 'color_tertiary', 'age', 'sex', 'size', 'coat',\n",
       "       'fixed', 'house_trained', 'declawed', 'special_needs', 'shots_current',\n",
       "       'env_children', 'env_dogs', 'env_cats', 'name', 'status', 'posted',\n",
       "       'contact_city', 'contact_state', 'contact_zip', 'contact_country',\n",
       "       'stateq', 'accessed', 'type_y', 'description', 'stay_duration',\n",
       "       'stay_cost'],\n",
       "      dtype='object')"
      ]
     },
     "execution_count": 18,
     "metadata": {},
     "output_type": "execute_result"
    }
   ],
   "source": [
    "# makeup column names\n",
    "dogs = tmp_dogs.copy()\n",
    "dogs.columns = [col.lower().replace(\".\", \"_\") for col in tmp_dogs.columns]\n",
    "dogs.columns"
   ]
  },
  {
   "cell_type": "code",
   "execution_count": 19,
   "id": "c8e51a1d",
   "metadata": {},
   "outputs": [
    {
     "data": {
      "text/html": [
       "<div>\n",
       "<style scoped>\n",
       "    .dataframe tbody tr th:only-of-type {\n",
       "        vertical-align: middle;\n",
       "    }\n",
       "\n",
       "    .dataframe tbody tr th {\n",
       "        vertical-align: top;\n",
       "    }\n",
       "\n",
       "    .dataframe thead th {\n",
       "        text-align: right;\n",
       "    }\n",
       "</style>\n",
       "<table border=\"1\" class=\"dataframe\">\n",
       "  <thead>\n",
       "    <tr style=\"text-align: right;\">\n",
       "      <th></th>\n",
       "      <th>index</th>\n",
       "      <th>id</th>\n",
       "      <th>contact_city</th>\n",
       "      <th>contact_state</th>\n",
       "      <th>description</th>\n",
       "      <th>found</th>\n",
       "      <th>manual</th>\n",
       "      <th>remove</th>\n",
       "      <th>still_there</th>\n",
       "    </tr>\n",
       "  </thead>\n",
       "  <tbody>\n",
       "    <tr>\n",
       "      <th>0</th>\n",
       "      <td>0</td>\n",
       "      <td>44520267</td>\n",
       "      <td>Anoka</td>\n",
       "      <td>MN</td>\n",
       "      <td>Boris is a handsome mini schnauzer who made hi...</td>\n",
       "      <td>Arkansas</td>\n",
       "      <td>NaN</td>\n",
       "      <td>NaN</td>\n",
       "      <td>NaN</td>\n",
       "    </tr>\n",
       "    <tr>\n",
       "      <th>1</th>\n",
       "      <td>1</td>\n",
       "      <td>44698509</td>\n",
       "      <td>Groveland</td>\n",
       "      <td>FL</td>\n",
       "      <td>Duke is an almost 2 year old Potcake from Abac...</td>\n",
       "      <td>Abacos</td>\n",
       "      <td>Bahamas</td>\n",
       "      <td>NaN</td>\n",
       "      <td>NaN</td>\n",
       "    </tr>\n",
       "    <tr>\n",
       "      <th>2</th>\n",
       "      <td>2</td>\n",
       "      <td>45983838</td>\n",
       "      <td>Adamstown</td>\n",
       "      <td>MD</td>\n",
       "      <td>Zac Woof-ron is a heartthrob movie star lookin...</td>\n",
       "      <td>Adam</td>\n",
       "      <td>Maryland</td>\n",
       "      <td>NaN</td>\n",
       "      <td>NaN</td>\n",
       "    </tr>\n",
       "    <tr>\n",
       "      <th>3</th>\n",
       "      <td>3</td>\n",
       "      <td>44475904</td>\n",
       "      <td>Saint Cloud</td>\n",
       "      <td>MN</td>\n",
       "      <td>~~Came in to the shelter as a transfer from an...</td>\n",
       "      <td>Adaptil</td>\n",
       "      <td>NaN</td>\n",
       "      <td>True</td>\n",
       "      <td>NaN</td>\n",
       "    </tr>\n",
       "    <tr>\n",
       "      <th>4</th>\n",
       "      <td>4</td>\n",
       "      <td>43877389</td>\n",
       "      <td>Pueblo</td>\n",
       "      <td>CO</td>\n",
       "      <td>Palang is such a sweetheart. She loves her peo...</td>\n",
       "      <td>Afghanistan</td>\n",
       "      <td>NaN</td>\n",
       "      <td>NaN</td>\n",
       "      <td>NaN</td>\n",
       "    </tr>\n",
       "  </tbody>\n",
       "</table>\n",
       "</div>"
      ],
      "text/plain": [
       "   index        id contact_city contact_state  \\\n",
       "0      0  44520267        Anoka            MN   \n",
       "1      1  44698509    Groveland            FL   \n",
       "2      2  45983838    Adamstown            MD   \n",
       "3      3  44475904  Saint Cloud            MN   \n",
       "4      4  43877389       Pueblo            CO   \n",
       "\n",
       "                                         description        found    manual  \\\n",
       "0  Boris is a handsome mini schnauzer who made hi...     Arkansas       NaN   \n",
       "1  Duke is an almost 2 year old Potcake from Abac...       Abacos   Bahamas   \n",
       "2  Zac Woof-ron is a heartthrob movie star lookin...         Adam  Maryland   \n",
       "3  ~~Came in to the shelter as a transfer from an...      Adaptil       NaN   \n",
       "4  Palang is such a sweetheart. She loves her peo...  Afghanistan       NaN   \n",
       "\n",
       "  remove still_there  \n",
       "0    NaN         NaN  \n",
       "1    NaN         NaN  \n",
       "2    NaN         NaN  \n",
       "3   True         NaN  \n",
       "4    NaN         NaN  "
      ]
     },
     "execution_count": 19,
     "metadata": {},
     "output_type": "execute_result"
    }
   ],
   "source": [
    "tmp_travels = pd.read_csv(\"dogTravel.csv\", sep=',', doublequote='\"', low_memory=False)\n",
    "tmp_travels.head()"
   ]
  },
  {
   "cell_type": "code",
   "execution_count": 20,
   "id": "1b216cc9",
   "metadata": {},
   "outputs": [],
   "source": [
    "travels = tmp_travels.copy()"
   ]
  },
  {
   "cell_type": "code",
   "execution_count": 29,
   "id": "7e19fcde",
   "metadata": {},
   "outputs": [
    {
     "data": {
      "text/html": [
       "<div>\n",
       "<style scoped>\n",
       "    .dataframe tbody tr th:only-of-type {\n",
       "        vertical-align: middle;\n",
       "    }\n",
       "\n",
       "    .dataframe tbody tr th {\n",
       "        vertical-align: top;\n",
       "    }\n",
       "\n",
       "    .dataframe thead th {\n",
       "        text-align: right;\n",
       "    }\n",
       "</style>\n",
       "<table border=\"1\" class=\"dataframe\">\n",
       "  <thead>\n",
       "    <tr style=\"text-align: right;\">\n",
       "      <th></th>\n",
       "      <th>state</th>\n",
       "      <th>numbers</th>\n",
       "    </tr>\n",
       "  </thead>\n",
       "  <tbody>\n",
       "    <tr>\n",
       "      <th>0</th>\n",
       "      <td>Alabama</td>\n",
       "      <td>5.024.279</td>\n",
       "    </tr>\n",
       "    <tr>\n",
       "      <th>1</th>\n",
       "      <td>Alaska</td>\n",
       "      <td>733.391</td>\n",
       "    </tr>\n",
       "    <tr>\n",
       "      <th>2</th>\n",
       "      <td>Arizona</td>\n",
       "      <td>7.151.502</td>\n",
       "    </tr>\n",
       "    <tr>\n",
       "      <th>3</th>\n",
       "      <td>Arkansas</td>\n",
       "      <td>3.011.524</td>\n",
       "    </tr>\n",
       "    <tr>\n",
       "      <th>4</th>\n",
       "      <td>California</td>\n",
       "      <td>39.538.223</td>\n",
       "    </tr>\n",
       "  </tbody>\n",
       "</table>\n",
       "</div>"
      ],
      "text/plain": [
       "        state     numbers\n",
       "0     Alabama   5.024.279\n",
       "1      Alaska     733.391\n",
       "2     Arizona   7.151.502\n",
       "3    Arkansas   3.011.524\n",
       "4  California  39.538.223"
      ]
     },
     "execution_count": 29,
     "metadata": {},
     "output_type": "execute_result"
    }
   ],
   "source": [
    "tmp_states = pd.read_csv(\"NST-EST2021-POP.csv\", header=None, names=[\"state\", \"numbers\"], sep=',', low_memory=False)\n",
    "tmp_states.head()"
   ]
  },
  {
   "cell_type": "code",
   "execution_count": 32,
   "id": "d348f65a",
   "metadata": {},
   "outputs": [
    {
     "name": "stderr",
     "output_type": "stream",
     "text": [
      "C:\\Users\\TECHSON\\AppData\\Local\\Temp\\ipykernel_6216\\3088612458.py:2: FutureWarning: The default value of regex will change from True to False in a future version. In addition, single character regular expressions will *not* be treated as literal strings when regex=True.\n",
      "  states.numbers = states.numbers.str.replace('.', '').astype(int)\n"
     ]
    },
    {
     "data": {
      "text/html": [
       "<div>\n",
       "<style scoped>\n",
       "    .dataframe tbody tr th:only-of-type {\n",
       "        vertical-align: middle;\n",
       "    }\n",
       "\n",
       "    .dataframe tbody tr th {\n",
       "        vertical-align: top;\n",
       "    }\n",
       "\n",
       "    .dataframe thead th {\n",
       "        text-align: right;\n",
       "    }\n",
       "</style>\n",
       "<table border=\"1\" class=\"dataframe\">\n",
       "  <thead>\n",
       "    <tr style=\"text-align: right;\">\n",
       "      <th></th>\n",
       "      <th>state</th>\n",
       "      <th>numbers</th>\n",
       "    </tr>\n",
       "  </thead>\n",
       "  <tbody>\n",
       "    <tr>\n",
       "      <th>0</th>\n",
       "      <td>Alabama</td>\n",
       "      <td>5024279</td>\n",
       "    </tr>\n",
       "    <tr>\n",
       "      <th>1</th>\n",
       "      <td>Alaska</td>\n",
       "      <td>733391</td>\n",
       "    </tr>\n",
       "    <tr>\n",
       "      <th>2</th>\n",
       "      <td>Arizona</td>\n",
       "      <td>7151502</td>\n",
       "    </tr>\n",
       "    <tr>\n",
       "      <th>3</th>\n",
       "      <td>Arkansas</td>\n",
       "      <td>3011524</td>\n",
       "    </tr>\n",
       "    <tr>\n",
       "      <th>4</th>\n",
       "      <td>California</td>\n",
       "      <td>39538223</td>\n",
       "    </tr>\n",
       "  </tbody>\n",
       "</table>\n",
       "</div>"
      ],
      "text/plain": [
       "        state   numbers\n",
       "0     Alabama   5024279\n",
       "1      Alaska    733391\n",
       "2     Arizona   7151502\n",
       "3    Arkansas   3011524\n",
       "4  California  39538223"
      ]
     },
     "execution_count": 32,
     "metadata": {},
     "output_type": "execute_result"
    }
   ],
   "source": [
    "states = tmp_states.copy()\n",
    "states.numbers = states.numbers.str.replace('.', '').astype(int)\n",
    "states.head()"
   ]
  },
  {
   "cell_type": "markdown",
   "id": "17667830",
   "metadata": {},
   "source": [
    "### 0.2 Profiling"
   ]
  },
  {
   "cell_type": "code",
   "execution_count": 35,
   "id": "b0eb743e",
   "metadata": {},
   "outputs": [
    {
     "name": "stdout",
     "output_type": "stream",
     "text": [
      "dogs:  (58180, 37)\n",
      "<class 'pandas.core.frame.DataFrame'>\n",
      "RangeIndex: 58180 entries, 0 to 58179\n",
      "Data columns (total 37 columns):\n",
      " #   Column           Non-Null Count  Dtype  \n",
      "---  ------           --------------  -----  \n",
      " 0   id               58180 non-null  int64  \n",
      " 1   org_id           58180 non-null  object \n",
      " 2   url              58180 non-null  object \n",
      " 3   type_x           58180 non-null  object \n",
      " 4   species          58180 non-null  object \n",
      " 5   breed_primary    58180 non-null  object \n",
      " 6   breed_secondary  20821 non-null  object \n",
      " 7   breed_mixed      58180 non-null  bool   \n",
      " 8   breed_unknown    58180 non-null  bool   \n",
      " 9   color_primary    26134 non-null  object \n",
      " 10  color_secondary  12059 non-null  object \n",
      " 11  color_tertiary   1217 non-null   object \n",
      " 12  age              58180 non-null  object \n",
      " 13  sex              58180 non-null  object \n",
      " 14  size             58180 non-null  object \n",
      " 15  coat             27185 non-null  object \n",
      " 16  fixed            58180 non-null  bool   \n",
      " 17  house_trained    58180 non-null  bool   \n",
      " 18  declawed         0 non-null      float64\n",
      " 19  special_needs    58180 non-null  bool   \n",
      " 20  shots_current    58180 non-null  bool   \n",
      " 21  env_children     28027 non-null  object \n",
      " 22  env_dogs         34669 non-null  object \n",
      " 23  env_cats         19352 non-null  object \n",
      " 24  name             58180 non-null  object \n",
      " 25  status           58180 non-null  object \n",
      " 26  posted           58180 non-null  object \n",
      " 27  contact_city     58180 non-null  object \n",
      " 28  contact_state    58180 non-null  object \n",
      " 29  contact_zip      58168 non-null  object \n",
      " 30  contact_country  58180 non-null  object \n",
      " 31  stateq           58180 non-null  object \n",
      " 32  accessed         58147 non-null  object \n",
      " 33  type_y           57540 non-null  object \n",
      " 34  description      49475 non-null  object \n",
      " 35  stay_duration    58180 non-null  int64  \n",
      " 36  stay_cost        58180 non-null  float64\n",
      "dtypes: bool(6), float64(2), int64(2), object(27)\n",
      "memory usage: 14.1+ MB\n"
     ]
    }
   ],
   "source": [
    "print(\"dogs: \", dogs.shape)\n",
    "dogs.info()\n"
   ]
  },
  {
   "cell_type": "code",
   "execution_count": 36,
   "id": "d8a534e4",
   "metadata": {},
   "outputs": [
    {
     "name": "stdout",
     "output_type": "stream",
     "text": [
      "travels:  (6194, 9)\n",
      "<class 'pandas.core.frame.DataFrame'>\n",
      "RangeIndex: 6194 entries, 0 to 6193\n",
      "Data columns (total 9 columns):\n",
      " #   Column         Non-Null Count  Dtype \n",
      "---  ------         --------------  ----- \n",
      " 0   index          6194 non-null   int64 \n",
      " 1   id             6194 non-null   int64 \n",
      " 2   contact_city   6194 non-null   object\n",
      " 3   contact_state  6194 non-null   object\n",
      " 4   description    6194 non-null   object\n",
      " 5   found          6194 non-null   object\n",
      " 6   manual         2147 non-null   object\n",
      " 7   remove         1738 non-null   object\n",
      " 8   still_there    319 non-null    object\n",
      "dtypes: int64(2), object(7)\n",
      "memory usage: 435.6+ KB\n"
     ]
    }
   ],
   "source": [
    "print(\"travels: \", travels.shape)\n",
    "\n",
    "travels.info()\n"
   ]
  },
  {
   "cell_type": "code",
   "execution_count": 41,
   "id": "2f17fb58",
   "metadata": {},
   "outputs": [
    {
     "name": "stdout",
     "output_type": "stream",
     "text": [
      "(51, 2)\n",
      "<class 'pandas.core.frame.DataFrame'>\n",
      "RangeIndex: 51 entries, 0 to 50\n",
      "Data columns (total 2 columns):\n",
      " #   Column   Non-Null Count  Dtype \n",
      "---  ------   --------------  ----- \n",
      " 0   state    51 non-null     object\n",
      " 1   numbers  51 non-null     int32 \n",
      "dtypes: int32(1), object(1)\n",
      "memory usage: 740.0+ bytes\n"
     ]
    },
    {
     "data": {
      "text/html": [
       "<div>\n",
       "<style scoped>\n",
       "    .dataframe tbody tr th:only-of-type {\n",
       "        vertical-align: middle;\n",
       "    }\n",
       "\n",
       "    .dataframe tbody tr th {\n",
       "        vertical-align: top;\n",
       "    }\n",
       "\n",
       "    .dataframe thead th {\n",
       "        text-align: right;\n",
       "    }\n",
       "</style>\n",
       "<table border=\"1\" class=\"dataframe\">\n",
       "  <thead>\n",
       "    <tr style=\"text-align: right;\">\n",
       "      <th></th>\n",
       "      <th>numbers</th>\n",
       "    </tr>\n",
       "  </thead>\n",
       "  <tbody>\n",
       "    <tr>\n",
       "      <th>count</th>\n",
       "      <td>5.100000e+01</td>\n",
       "    </tr>\n",
       "    <tr>\n",
       "      <th>mean</th>\n",
       "      <td>6.499006e+06</td>\n",
       "    </tr>\n",
       "    <tr>\n",
       "      <th>std</th>\n",
       "      <td>7.408023e+06</td>\n",
       "    </tr>\n",
       "    <tr>\n",
       "      <th>min</th>\n",
       "      <td>5.768510e+05</td>\n",
       "    </tr>\n",
       "    <tr>\n",
       "      <th>25%</th>\n",
       "      <td>1.816411e+06</td>\n",
       "    </tr>\n",
       "    <tr>\n",
       "      <th>50%</th>\n",
       "      <td>4.505836e+06</td>\n",
       "    </tr>\n",
       "    <tr>\n",
       "      <th>75%</th>\n",
       "      <td>7.428392e+06</td>\n",
       "    </tr>\n",
       "    <tr>\n",
       "      <th>max</th>\n",
       "      <td>3.953822e+07</td>\n",
       "    </tr>\n",
       "  </tbody>\n",
       "</table>\n",
       "</div>"
      ],
      "text/plain": [
       "            numbers\n",
       "count  5.100000e+01\n",
       "mean   6.499006e+06\n",
       "std    7.408023e+06\n",
       "min    5.768510e+05\n",
       "25%    1.816411e+06\n",
       "50%    4.505836e+06\n",
       "75%    7.428392e+06\n",
       "max    3.953822e+07"
      ]
     },
     "execution_count": 41,
     "metadata": {},
     "output_type": "execute_result"
    }
   ],
   "source": [
    "print(states.shape)\n",
    "\n",
    "states.info()\n",
    "\n",
    "states.describe()"
   ]
  },
  {
   "cell_type": "markdown",
   "id": "b7a0ffa6-ad32-446f-8780-eb3138658e14",
   "metadata": {},
   "source": [
    "### 1. Extract all dogs with status that is not *adoptable*"
   ]
  },
  {
   "cell_type": "markdown",
   "id": "f3d46848-9e88-4eae-96af-43263c16371e",
   "metadata": {},
   "source": [
    "### 2. For each (primary) breed, determine the number of dogs"
   ]
  },
  {
   "cell_type": "markdown",
   "id": "bd288f44-e2f2-4420-b662-da98a666a8a9",
   "metadata": {},
   "source": [
    "### 3. For each (primary) breed, determine the ratio between the number of dogs of `Mixed Breed` and those not of Mixed Breed. Hint: look at the `secondary_breed`."
   ]
  },
  {
   "cell_type": "markdown",
   "id": "f94c4aed-9490-440d-af7e-744ed71e6819",
   "metadata": {},
   "source": [
    "### 4. For each (primary) breed, determine the earliest and the latest `posted` timestamp."
   ]
  },
  {
   "cell_type": "markdown",
   "id": "db828c77-9432-4533-9695-e45ec86dc885",
   "metadata": {},
   "source": [
    "### 5. For each state, compute the sex imbalance, that is the difference between male and female dogs. In which state this imbalance is largest?"
   ]
  },
  {
   "cell_type": "markdown",
   "id": "2bf98f50-14b1-4a48-9906-c71e614789c5",
   "metadata": {},
   "source": [
    "### 6. For each pair (age, size), determine the average duration of the stay and the average cost of stay."
   ]
  },
  {
   "cell_type": "markdown",
   "id": "b473c62b-ed47-41b4-9de9-38999c6c6427",
   "metadata": {},
   "source": [
    "### 7. Find the dogs involved in at least 3 travels. Also list the breed of those dogs."
   ]
  },
  {
   "cell_type": "markdown",
   "id": "9af8db3f-9440-45f3-ab0a-7816a2f07eff",
   "metadata": {},
   "source": [
    "### 8. Fix the `travels` table so that the correct state is computed from  the `manual` and the `found` fields. If `found` is not missing, then it overrides what is stored in `found`."
   ]
  },
  {
   "cell_type": "markdown",
   "id": "58b8ebc7-d50d-4718-9bfa-1a2f95679eba",
   "metadata": {},
   "source": [
    "### 9. For each state, compute the ratio between the number of travels and the population."
   ]
  },
  {
   "cell_type": "markdown",
   "id": "2ac557be-0433-4c65-9e17-b10775e96d31",
   "metadata": {},
   "source": [
    "### 10. For each dog, compute the number of days from the `posted` day to the day of last access."
   ]
  },
  {
   "cell_type": "markdown",
   "id": "c7f19f9e-ee36-4c50-a0d4-d36bd8135f7f",
   "metadata": {},
   "source": [
    "### 11. Partition the dogs according to the number of weeks from the `posted` day to the day of last access."
   ]
  },
  {
   "cell_type": "markdown",
   "id": "59f24e67-8828-435d-9d91-56559f78cb10",
   "metadata": {},
   "source": [
    "### 12. Find for duplicates in the `dogs` dataset. Two records are duplicates if they have (1) same breeds and sex, and (2) they share at least 90% of the words in the description field. Extra points if you find and implement a more refined for determining if two rows are duplicates."
   ]
  }
 ],
 "metadata": {
  "kernelspec": {
   "display_name": "Python 3.10.8 64-bit",
   "language": "python",
   "name": "python3"
  },
  "language_info": {
   "codemirror_mode": {
    "name": "ipython",
    "version": 3
   },
   "file_extension": ".py",
   "mimetype": "text/x-python",
   "name": "python",
   "nbconvert_exporter": "python",
   "pygments_lexer": "ipython3",
   "version": "3.10.8"
  },
  "vscode": {
   "interpreter": {
    "hash": "26de051ba29f2982a8de78e945f0abaf191376122a1563185a90213a26c5da77"
   }
  }
 },
 "nbformat": 4,
 "nbformat_minor": 5
}
