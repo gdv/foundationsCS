{
 "cells": [
  {
   "cell_type": "markdown",
   "metadata": {},
   "source": [
    "Suppose the cover price of a book is €24.95, but bookstores get a 40% discount. \n",
    "Shipping costs €3 for the first copy and 75 cents for each additional copy. What is the total wholesale cost for 60 copies? "
   ]
  },
  {
   "cell_type": "code",
   "execution_count": 1,
   "metadata": {},
   "outputs": [
    {
     "data": {
      "text/plain": [
       "945.4499999999999"
      ]
     },
     "execution_count": 1,
     "metadata": {},
     "output_type": "execute_result"
    }
   ],
   "source": [
    "copies = 60\n",
    "24.95 * 0.6 * copies + 3 + 0.75 * (copies - 1)"
   ]
  },
  {
   "cell_type": "markdown",
   "metadata": {},
   "source": [
    "And the cost for 200 copies?\n",
    "\n",
    "Compare your answer with the solution up to 2 decimal numbers."
   ]
  },
  {
   "cell_type": "code",
   "execution_count": 2,
   "metadata": {},
   "outputs": [
    {
     "data": {
      "text/plain": [
       "3146.25"
      ]
     },
     "execution_count": 2,
     "metadata": {},
     "output_type": "execute_result"
    }
   ],
   "source": [
    "copies = 200\n",
    "24.95 * 0.6 * copies + 3 + 0.75 * (copies - 1)"
   ]
  },
  {
   "cell_type": "markdown",
   "metadata": {},
   "source": [
    "Find the number of copies you can buy with €10000."
   ]
  },
  {
   "cell_type": "code",
   "execution_count": 9,
   "metadata": {},
   "outputs": [
    {
     "data": {
      "text/plain": [
       "635"
      ]
     },
     "execution_count": 9,
     "metadata": {},
     "output_type": "execute_result"
    }
   ],
   "source": [
    "# A simple manipulation of the expression that gives the total cost\n",
    "# given the number of copies\n",
    "# amount = 24.95 * 0.6 + 3 + (0.75 + 24.95 * 0.6) * (copies - 1)\n",
    "\n",
    "# copies is the unknown\n",
    "# amount = 2.25 + (0.75 + 24.95 * 0.6) * copies\n",
    "# copies  = (amount - 2.25) / (0.75 + 24.95 * 0.6) \n",
    "\n",
    "# But copies must be an integer, so we the the integral part\n",
    "amount = 10000\n",
    "copies = int((amount - 2.25) / (0.75 + 24.95 * 0.6))\n",
    "copies"
   ]
  },
  {
   "cell_type": "markdown",
   "metadata": {},
   "source": [
    "Find the number of copies you can buy with €10000, using a while loop"
   ]
  },
  {
   "cell_type": "code",
   "execution_count": 11,
   "metadata": {},
   "outputs": [
    {
     "data": {
      "text/plain": [
       "635"
      ]
     },
     "execution_count": 11,
     "metadata": {},
     "output_type": "execute_result"
    }
   ],
   "source": [
    "cost = (3 - 0.75)\n",
    "single_copy_cost = 24.95 * 60 / 100 + 0.75\n",
    "copies = 0\n",
    "while (cost < 10000):\n",
    "    copies += 1\n",
    "    cost += single_copy_cost\n",
    "copies - 1"
   ]
  },
  {
   "cell_type": "markdown",
   "metadata": {},
   "source": [
    "Find the number of copies you can buy with €10000, using a for loop (Hint: use `range(10000)`)"
   ]
  },
  {
   "cell_type": "code",
   "execution_count": 12,
   "metadata": {},
   "outputs": [
    {
     "name": "stdout",
     "output_type": "stream",
     "text": [
      "635\n"
     ]
    }
   ],
   "source": [
    "for copies in range(10000):\n",
    "    if 24.95 * 0.6 * copies + 3 + 0.75 * (copies - 1) <= 10000:\n",
    "        if 24.95 * 0.6 * (copies + 1) + 3 + 0.75 * copies > 10000:\n",
    "            print(copies)"
   ]
  }
 ],
 "metadata": {
  "kernelspec": {
   "display_name": "Python 3 (ipykernel)",
   "language": "python",
   "name": "python3"
  },
  "language_info": {
   "codemirror_mode": {
    "name": "ipython",
    "version": 3
   },
   "file_extension": ".py",
   "mimetype": "text/x-python",
   "name": "python",
   "nbconvert_exporter": "python",
   "pygments_lexer": "ipython3",
   "version": "3.10.6"
  }
 },
 "nbformat": 4,
 "nbformat_minor": 4
}
