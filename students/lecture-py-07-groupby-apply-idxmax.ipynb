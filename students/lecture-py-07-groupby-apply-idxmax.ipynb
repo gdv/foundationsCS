{
 "cells": [
  {
   "cell_type": "markdown",
   "metadata": {},
   "source": [
    "# Group by\n"
   ]
  },
  {
   "cell_type": "markdown",
   "metadata": {},
   "source": [
    "We will work on the `orders` dataframe."
   ]
  },
  {
   "cell_type": "markdown",
   "metadata": {},
   "source": [
    "## For each customer, compute the number of orders"
   ]
  },
  {
   "cell_type": "markdown",
   "metadata": {},
   "source": [
    "A more flexible, but a bit cumbersome, alternative is `count`"
   ]
  },
  {
   "cell_type": "markdown",
   "metadata": {
    "tags": []
   },
   "source": [
    "Since `count` counts the number of non-missing rows for each column, it is better to choose a column."
   ]
  },
  {
   "cell_type": "markdown",
   "metadata": {
    "tags": []
   },
   "source": [
    "The result of a `groupby` moves the column in the `groupby` to the index. Notice the set of columns that are extracted."
   ]
  },
  {
   "cell_type": "markdown",
   "metadata": {
    "tags": []
   },
   "source": [
    "Can we use a `groupby` by itself?"
   ]
  },
  {
   "cell_type": "markdown",
   "metadata": {},
   "source": [
    "# idxmax - idxmin\n",
    "\n",
    "We need the `Products` table"
   ]
  },
  {
   "cell_type": "code",
   "execution_count": 10,
   "metadata": {
    "tags": [
     "show"
    ]
   },
   "outputs": [],
   "source": [
    "products = pd.read_csv(\"https://github.com/gdv/foundationsCS/raw/main/students/ex-data/Northwind/Products.csv\")"
   ]
  },
  {
   "cell_type": "code",
   "execution_count": 11,
   "metadata": {
    "tags": [
     "show"
    ]
   },
   "outputs": [
    {
     "data": {
      "text/html": [
       "<div>\n",
       "<style scoped>\n",
       "    .dataframe tbody tr th:only-of-type {\n",
       "        vertical-align: middle;\n",
       "    }\n",
       "\n",
       "    .dataframe tbody tr th {\n",
       "        vertical-align: top;\n",
       "    }\n",
       "\n",
       "    .dataframe thead th {\n",
       "        text-align: right;\n",
       "    }\n",
       "</style>\n",
       "<table border=\"1\" class=\"dataframe\">\n",
       "  <thead>\n",
       "    <tr style=\"text-align: right;\">\n",
       "      <th></th>\n",
       "      <th>Id</th>\n",
       "      <th>ProductName</th>\n",
       "      <th>SupplierId</th>\n",
       "      <th>CategoryId</th>\n",
       "      <th>QuantityPerUnit</th>\n",
       "      <th>UnitPrice</th>\n",
       "      <th>UnitsInStock</th>\n",
       "      <th>UnitsOnOrder</th>\n",
       "      <th>ReorderLevel</th>\n",
       "      <th>Discontinued</th>\n",
       "    </tr>\n",
       "  </thead>\n",
       "  <tbody>\n",
       "    <tr>\n",
       "      <th>0</th>\n",
       "      <td>1</td>\n",
       "      <td>Chai</td>\n",
       "      <td>1</td>\n",
       "      <td>1</td>\n",
       "      <td>10 boxes x 20 bags</td>\n",
       "      <td>18.00</td>\n",
       "      <td>39</td>\n",
       "      <td>0</td>\n",
       "      <td>10</td>\n",
       "      <td>0</td>\n",
       "    </tr>\n",
       "    <tr>\n",
       "      <th>1</th>\n",
       "      <td>2</td>\n",
       "      <td>Chang</td>\n",
       "      <td>1</td>\n",
       "      <td>1</td>\n",
       "      <td>24 - 12 oz bottles</td>\n",
       "      <td>19.00</td>\n",
       "      <td>17</td>\n",
       "      <td>40</td>\n",
       "      <td>25</td>\n",
       "      <td>0</td>\n",
       "    </tr>\n",
       "    <tr>\n",
       "      <th>2</th>\n",
       "      <td>3</td>\n",
       "      <td>Aniseed Syrup</td>\n",
       "      <td>1</td>\n",
       "      <td>2</td>\n",
       "      <td>12 - 550 ml bottles</td>\n",
       "      <td>10.00</td>\n",
       "      <td>13</td>\n",
       "      <td>70</td>\n",
       "      <td>25</td>\n",
       "      <td>0</td>\n",
       "    </tr>\n",
       "    <tr>\n",
       "      <th>3</th>\n",
       "      <td>4</td>\n",
       "      <td>Chef Anton's Cajun Seasoning</td>\n",
       "      <td>2</td>\n",
       "      <td>2</td>\n",
       "      <td>48 - 6 oz jars</td>\n",
       "      <td>22.00</td>\n",
       "      <td>53</td>\n",
       "      <td>0</td>\n",
       "      <td>0</td>\n",
       "      <td>0</td>\n",
       "    </tr>\n",
       "    <tr>\n",
       "      <th>4</th>\n",
       "      <td>5</td>\n",
       "      <td>Chef Anton's Gumbo Mix</td>\n",
       "      <td>2</td>\n",
       "      <td>2</td>\n",
       "      <td>36 boxes</td>\n",
       "      <td>21.35</td>\n",
       "      <td>0</td>\n",
       "      <td>0</td>\n",
       "      <td>0</td>\n",
       "      <td>1</td>\n",
       "    </tr>\n",
       "  </tbody>\n",
       "</table>\n",
       "</div>"
      ],
      "text/plain": [
       "   Id                   ProductName  SupplierId  CategoryId  \\\n",
       "0   1                          Chai           1           1   \n",
       "1   2                         Chang           1           1   \n",
       "2   3                 Aniseed Syrup           1           2   \n",
       "3   4  Chef Anton's Cajun Seasoning           2           2   \n",
       "4   5        Chef Anton's Gumbo Mix           2           2   \n",
       "\n",
       "       QuantityPerUnit  UnitPrice  UnitsInStock  UnitsOnOrder  ReorderLevel  \\\n",
       "0   10 boxes x 20 bags      18.00            39             0            10   \n",
       "1   24 - 12 oz bottles      19.00            17            40            25   \n",
       "2  12 - 550 ml bottles      10.00            13            70            25   \n",
       "3       48 - 6 oz jars      22.00            53             0             0   \n",
       "4             36 boxes      21.35             0             0             0   \n",
       "\n",
       "   Discontinued  \n",
       "0             0  \n",
       "1             0  \n",
       "2             0  \n",
       "3             0  \n",
       "4             1  "
      ]
     },
     "execution_count": 11,
     "metadata": {},
     "output_type": "execute_result"
    }
   ],
   "source": [
    "products.head()"
   ]
  },
  {
   "cell_type": "markdown",
   "metadata": {},
   "source": [
    "Extract the maximum of the `UnitsInStock` column"
   ]
  },
  {
   "cell_type": "markdown",
   "metadata": {},
   "source": [
    "Find the product with maximum number of units in stock"
   ]
  },
  {
   "cell_type": "markdown",
   "metadata": {},
   "source": [
    "Let us investigate what happens if we also have an explicit index"
   ]
  },
  {
   "cell_type": "markdown",
   "metadata": {},
   "source": [
    "`idxmax` and `idxmin` return the **explicit** index, if possible.\n",
    "\n",
    "#### What if there are several products achieving the minimum?"
   ]
  },
  {
   "cell_type": "markdown",
   "metadata": {},
   "source": [
    "### Maximum by group\n",
    "\n",
    "For each category, find a product with minimum number of units in stock."
   ]
  },
  {
   "cell_type": "markdown",
   "metadata": {},
   "source": [
    "Extract the relevant columns"
   ]
  },
  {
   "cell_type": "markdown",
   "metadata": {},
   "source": [
    "It is more complex to extract all products with minimum number of units in stock."
   ]
  },
  {
   "cell_type": "markdown",
   "metadata": {},
   "source": [
    "# Apply\n",
    "\n",
    "Column- or table-wise operators are much more efficient.\n",
    "\n",
    "What if we want to create a new column with the result of a complex expression?\n",
    "\n",
    "Add a column `alert` that is equal to the sum of `UnitsOnOrder` and `UnitsInStock`, but is equal to 100 if that sum is larger than 100 and is equal to 0 if the product is discontinued.\n",
    "\n",
    "First we build a function that computes the value of `alert` given a row of the dataframe."
   ]
  },
  {
   "cell_type": "markdown",
   "metadata": {},
   "source": [
    "Then we can `apply` the function to all rows of the dataframe."
   ]
  }
 ],
 "metadata": {
  "kernelspec": {
   "display_name": "Python 3 (ipykernel)",
   "language": "python",
   "name": "python3"
  },
  "language_info": {
   "codemirror_mode": {
    "name": "ipython",
    "version": 3
   },
   "file_extension": ".py",
   "mimetype": "text/x-python",
   "name": "python",
   "nbconvert_exporter": "python",
   "pygments_lexer": "ipython3",
   "version": "3.11.5"
  }
 },
 "nbformat": 4,
 "nbformat_minor": 4
}
