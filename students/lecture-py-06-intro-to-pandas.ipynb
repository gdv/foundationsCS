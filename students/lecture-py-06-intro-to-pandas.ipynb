{
 "cells": [
  {
   "cell_type": "markdown",
   "metadata": {},
   "source": [
    "# Pandas\n",
    "\n",
    "First we have to import the library"
   ]
  },
  {
   "cell_type": "markdown",
   "metadata": {},
   "source": [
    "Read the `ex-data/Northwind/Orders.csv` file. Notice that the contents of the file are now in a `DataFrame`"
   ]
  },
  {
   "cell_type": "markdown",
   "metadata": {},
   "source": [
    "## Most common `read_csv` options\n",
    "\n",
    "*  `sep` or `delimiter`: the string that separates the fields. \n",
    "*  `delim_whitespace`: a boolean that states if any whitespace is the delimiter\n",
    "*  `skiprows`: lines to skip. Usually at the beginning of the file, if it contains a comment\n",
    "*  `nrows`: number of rows to read. Useful for debugging on huge files\n",
    "*  `low_memory`: boolean (default `True`). Sometimes messes up parsing\n",
    "*  `na_values`, `keep_default_na`, `na_filter`: change the default behavior for parsing missing data\n",
    "*  `parse_dates`: dates are a mess to parse. State which columns contain dates\n",
    "*  `infer_datetime_format`, `dayfirst`: may speed up parsing dates\n",
    "*  `thousands`, `decimal`: hints for parsing non US-based numbers\n",
    "*  `encoding`: sometimes you have to set it to `utf-8`"
   ]
  },
  {
   "cell_type": "markdown",
   "metadata": {},
   "source": [
    "## Series vs DataFrame\n",
    "\n",
    "A `Series` has a single column. A `DataFrame` at least two columns and an index."
   ]
  },
  {
   "cell_type": "markdown",
   "metadata": {},
   "source": [
    "Extract the column `CustomerId` from `Orders`"
   ]
  },
  {
   "cell_type": "markdown",
   "metadata": {},
   "source": [
    "What does it happen if I use the wrong column name?"
   ]
  },
  {
   "cell_type": "markdown",
   "metadata": {},
   "source": [
    "Show the first rows of `Orders`"
   ]
  },
  {
   "cell_type": "markdown",
   "metadata": {},
   "source": [
    "Show the size of `Orders`"
   ]
  },
  {
   "cell_type": "markdown",
   "metadata": {},
   "source": [
    "Show the size of `ord"
   ]
  },
  {
   "cell_type": "markdown",
   "metadata": {},
   "source": [
    "Show the column names of `Orders`"
   ]
  },
  {
   "cell_type": "markdown",
   "metadata": {},
   "source": [
    "Change the column name `ShipVia` to `Via`"
   ]
  },
  {
   "cell_type": "markdown",
   "metadata": {},
   "source": [
    "Build a new column `Freight_kg` obtained by multiplying `Freight` by 1000"
   ]
  },
  {
   "cell_type": "markdown",
   "metadata": {},
   "source": [
    "Use `Id` as the index"
   ]
  },
  {
   "cell_type": "markdown",
   "metadata": {},
   "source": [
    "Restore the old index"
   ]
  },
  {
   "cell_type": "markdown",
   "metadata": {},
   "source": [
    "Extract all rows where `ShipVia` is equal to 2"
   ]
  },
  {
   "cell_type": "markdown",
   "metadata": {},
   "source": [
    "What is `orders['ShipVia'] == 2`?"
   ]
  },
  {
   "cell_type": "markdown",
   "metadata": {},
   "source": [
    "Extract the `Id` of the rows where `ShipVia` is equal to 2"
   ]
  },
  {
   "cell_type": "markdown",
   "metadata": {},
   "source": [
    "Extract the `Id` and `CustomerId` of the rows where `ShipVia` is equal to 2"
   ]
  },
  {
   "cell_type": "markdown",
   "metadata": {},
   "source": [
    "Use `Id` as the index"
   ]
  },
  {
   "cell_type": "markdown",
   "metadata": {},
   "source": [
    "Extract the fifth and tenth row."
   ]
  },
  {
   "cell_type": "markdown",
   "metadata": {},
   "source": [
    "Extract the rows with `Id` equal to 10252, 10257."
   ]
  }
 ],
 "metadata": {
  "kernelspec": {
   "display_name": "Python 3 (ipykernel)",
   "language": "python",
   "name": "python3"
  },
  "language_info": {
   "codemirror_mode": {
    "name": "ipython",
    "version": 3
   },
   "file_extension": ".py",
   "mimetype": "text/x-python",
   "name": "python",
   "nbconvert_exporter": "python",
   "pygments_lexer": "ipython3",
   "version": "3.10.6"
  }
 },
 "nbformat": 4,
 "nbformat_minor": 4
}
