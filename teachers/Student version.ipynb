{
 "cells": [
  {
   "cell_type": "code",
   "execution_count": 1,
   "metadata": {
    "editable": true,
    "slideshow": {
     "slide_type": ""
    },
    "tags": []
   },
   "outputs": [],
   "source": [
    "import nbformat as nbf\n",
    "from glob import glob\n",
    "import os\n",
    "import time\n",
    "\n",
    "# Collect a list of all notebooks in the content folder\n",
    "notebooks = glob(\"./*-[0-9][0-9]*.ipynb\")\n",
    "#notebooks = glob(\"./*-01-list*.ipynb\")\n",
    "notebooks.sort()"
   ]
  },
  {
   "cell_type": "markdown",
   "metadata": {},
   "source": [
    "Given a notebook cell, the function `keep_cell` returns `True` iff we want to keep this cell in the students' edition.\n",
    "\n",
    "We keep all markdown cells (unless they have a `hide` tag) and the code cells with a `show` tag."
   ]
  },
  {
   "cell_type": "code",
   "execution_count": 2,
   "metadata": {},
   "outputs": [],
   "source": [
    "def keep_cell(cell):\n",
    "    cell_tags = cell.get('metadata', {}).get('tags', [])\n",
    "    if cell['cell_type'] == 'code' and 'show' in cell_tags:\n",
    "        return True\n",
    "    if cell['cell_type'] == 'markdown' and 'hide' not in cell_tags:\n",
    "        return True\n",
    "    return False"
   ]
  },
  {
   "cell_type": "code",
   "execution_count": 3,
   "metadata": {
    "editable": true,
    "slideshow": {
     "slide_type": ""
    },
    "tags": []
   },
   "outputs": [],
   "source": [
    "def trim_file(ipath, debug = False):\n",
    "    dest_path = \"../students/\" + ipath\n",
    "    if not os.path.exists(dest_path) or os.path.getmtime(ipath) > os.path.getmtime(dest_path) or debug:\n",
    "    \n",
    "        print(f\"updating {ipath}->{dest_path}\")\n",
    "        if os.path.exists(dest_path):\n",
    "            print(f\"    {time.ctime(os.path.getmtime(ipath))} -> {time.ctime(os.path.getmtime(dest_path))}. {os.path.getmtime(ipath) > os.path.getmtime(dest_path)}\")\n",
    "        else:\n",
    "            print(f\"    New notebook: {dest_path}\")\n",
    "        ntbk = nbf.read(ipath, nbf.NO_CONVERT)\n",
    "        if 'celltoolbar' in ntbk['metadata']:\n",
    "            del ntbk['metadata']['celltoolbar']\n",
    "\n",
    "        if debug:\n",
    "            print(\"before\")\n",
    "            print(ntbk)\n",
    "\n",
    "        ntbk.cells = [cell for cell in ntbk.cells if keep_cell(cell)]\n",
    "        if debug:\n",
    "            print(\"after\")\n",
    "            print(ntbk)\n",
    "        nbf.write(ntbk, dest_path)"
   ]
  },
  {
   "cell_type": "code",
   "execution_count": 4,
   "metadata": {
    "editable": true,
    "slideshow": {
     "slide_type": ""
    },
    "tags": []
   },
   "outputs": [
    {
     "name": "stdout",
     "output_type": "stream",
     "text": [
      "updating ./project-2023.ipynb->../students/./project-2023.ipynb\n",
      "    New notebook: ../students/./project-2023.ipynb\n"
     ]
    }
   ],
   "source": [
    "for ipath in notebooks:\n",
    "    trim_file(ipath)"
   ]
  },
  {
   "cell_type": "markdown",
   "metadata": {},
   "source": [
    "Look for the tags of each code cell.\n",
    "*  **show** tag means that the content of the cell is shown, but not the result\n",
    "*  **show_output** tag means that the content and the result of the cell are shown"
   ]
  },
  {
   "cell_type": "code",
   "execution_count": 5,
   "metadata": {
    "editable": true,
    "slideshow": {
     "slide_type": ""
    },
    "tags": []
   },
   "outputs": [],
   "source": [
    "#trim_file('./test-students.ipynb', debug=True)"
   ]
  }
 ],
 "metadata": {
  "kernelspec": {
   "display_name": "Python 3 (ipykernel)",
   "language": "python",
   "name": "python3"
  },
  "language_info": {
   "codemirror_mode": {
    "name": "ipython",
    "version": 3
   },
   "file_extension": ".py",
   "mimetype": "text/x-python",
   "name": "python",
   "nbconvert_exporter": "python",
   "pygments_lexer": "ipython3",
   "version": "3.11.6"
  }
 },
 "nbformat": 4,
 "nbformat_minor": 4
}
