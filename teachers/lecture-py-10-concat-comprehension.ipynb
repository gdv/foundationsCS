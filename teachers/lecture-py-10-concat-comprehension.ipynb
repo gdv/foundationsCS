{
 "cells": [
  {
   "cell_type": "markdown",
   "metadata": {},
   "source": [
    "# Concatenate dataframe\n"
   ]
  },
  {
   "cell_type": "code",
   "execution_count": 1,
   "metadata": {
    "tags": [
     "show"
    ]
   },
   "outputs": [],
   "source": [
    "import pandas as pd\n",
    "import numpy as np"
   ]
  },
  {
   "cell_type": "markdown",
   "metadata": {},
   "source": [
    "We will work on the `orders` dataframe."
   ]
  },
  {
   "cell_type": "code",
   "execution_count": 2,
   "metadata": {
    "tags": [
     "show"
    ]
   },
   "outputs": [],
   "source": [
    "orders = pd.read_csv(\"https://github.com/gdv/foundationsCS/raw/master/students/ex-data/Northwind/Orders.csv\", parse_dates = ['OrderDate'])"
   ]
  },
  {
   "cell_type": "markdown",
   "metadata": {},
   "source": [
    "We split the `orders` dataframe into old and new orders."
   ]
  },
  {
   "cell_type": "code",
   "execution_count": 3,
   "metadata": {
    "tags": [
     "show"
    ]
   },
   "outputs": [],
   "source": [
    "old = orders[orders['OrderDate'].dt.year <= 2012]\n",
    "new = orders[orders['OrderDate'].dt.year > 2012]"
   ]
  },
  {
   "cell_type": "markdown",
   "metadata": {},
   "source": [
    "We can concatenate only dataframe with the same *structure."
   ]
  },
  {
   "cell_type": "code",
   "execution_count": 4,
   "metadata": {},
   "outputs": [
    {
     "data": {
      "text/html": [
       "<div>\n",
       "<style scoped>\n",
       "    .dataframe tbody tr th:only-of-type {\n",
       "        vertical-align: middle;\n",
       "    }\n",
       "\n",
       "    .dataframe tbody tr th {\n",
       "        vertical-align: top;\n",
       "    }\n",
       "\n",
       "    .dataframe thead th {\n",
       "        text-align: right;\n",
       "    }\n",
       "</style>\n",
       "<table border=\"1\" class=\"dataframe\">\n",
       "  <thead>\n",
       "    <tr style=\"text-align: right;\">\n",
       "      <th></th>\n",
       "      <th>Id</th>\n",
       "      <th>CustomerId</th>\n",
       "      <th>EmployeeId</th>\n",
       "      <th>OrderDate</th>\n",
       "      <th>RequiredDate</th>\n",
       "      <th>ShippedDate</th>\n",
       "      <th>ShipVia</th>\n",
       "      <th>Freight</th>\n",
       "      <th>ShipName</th>\n",
       "      <th>ShipAddress</th>\n",
       "      <th>ShipCity</th>\n",
       "      <th>ShipRegion</th>\n",
       "      <th>ShipPostalCode</th>\n",
       "      <th>ShipCountry</th>\n",
       "    </tr>\n",
       "  </thead>\n",
       "  <tbody>\n",
       "    <tr>\n",
       "      <th>0</th>\n",
       "      <td>10248</td>\n",
       "      <td>VINET</td>\n",
       "      <td>5</td>\n",
       "      <td>2012-07-04 00:00:00</td>\n",
       "      <td>2012-08-01</td>\n",
       "      <td>2012-07-16</td>\n",
       "      <td>3</td>\n",
       "      <td>16.75</td>\n",
       "      <td>Vins et alcools Chevalier</td>\n",
       "      <td>59 rue de l'Abbaye</td>\n",
       "      <td>Reims</td>\n",
       "      <td>Western Europe</td>\n",
       "      <td>51100</td>\n",
       "      <td>France</td>\n",
       "    </tr>\n",
       "    <tr>\n",
       "      <th>1</th>\n",
       "      <td>10249</td>\n",
       "      <td>TOMSP</td>\n",
       "      <td>6</td>\n",
       "      <td>2012-07-05 00:00:00</td>\n",
       "      <td>2012-08-16</td>\n",
       "      <td>2012-07-10</td>\n",
       "      <td>1</td>\n",
       "      <td>22.25</td>\n",
       "      <td>Toms Spezialitäten</td>\n",
       "      <td>Luisenstr. 48</td>\n",
       "      <td>Münster</td>\n",
       "      <td>Western Europe</td>\n",
       "      <td>44087</td>\n",
       "      <td>Germany</td>\n",
       "    </tr>\n",
       "    <tr>\n",
       "      <th>2</th>\n",
       "      <td>10250</td>\n",
       "      <td>HANAR</td>\n",
       "      <td>4</td>\n",
       "      <td>2012-07-08 00:00:00</td>\n",
       "      <td>2012-08-05</td>\n",
       "      <td>2012-07-12</td>\n",
       "      <td>2</td>\n",
       "      <td>25.00</td>\n",
       "      <td>Hanari Carnes</td>\n",
       "      <td>Rua do Paço, 67</td>\n",
       "      <td>Rio de Janeiro</td>\n",
       "      <td>South America</td>\n",
       "      <td>05454-876</td>\n",
       "      <td>Brazil</td>\n",
       "    </tr>\n",
       "    <tr>\n",
       "      <th>3</th>\n",
       "      <td>10251</td>\n",
       "      <td>VICTE</td>\n",
       "      <td>3</td>\n",
       "      <td>2012-07-08 00:00:00</td>\n",
       "      <td>2012-08-05</td>\n",
       "      <td>2012-07-15</td>\n",
       "      <td>1</td>\n",
       "      <td>20.25</td>\n",
       "      <td>Victuailles en stock</td>\n",
       "      <td>2, rue du Commerce</td>\n",
       "      <td>Lyon</td>\n",
       "      <td>Western Europe</td>\n",
       "      <td>69004</td>\n",
       "      <td>France</td>\n",
       "    </tr>\n",
       "    <tr>\n",
       "      <th>4</th>\n",
       "      <td>10252</td>\n",
       "      <td>SUPRD</td>\n",
       "      <td>4</td>\n",
       "      <td>2012-07-09 00:00:00</td>\n",
       "      <td>2012-08-06</td>\n",
       "      <td>2012-07-11</td>\n",
       "      <td>2</td>\n",
       "      <td>36.25</td>\n",
       "      <td>Suprêmes délices</td>\n",
       "      <td>Boulevard Tirou, 255</td>\n",
       "      <td>Charleroi</td>\n",
       "      <td>Western Europe</td>\n",
       "      <td>B-6000</td>\n",
       "      <td>Belgium</td>\n",
       "    </tr>\n",
       "    <tr>\n",
       "      <th>...</th>\n",
       "      <td>...</td>\n",
       "      <td>...</td>\n",
       "      <td>...</td>\n",
       "      <td>...</td>\n",
       "      <td>...</td>\n",
       "      <td>...</td>\n",
       "      <td>...</td>\n",
       "      <td>...</td>\n",
       "      <td>...</td>\n",
       "      <td>...</td>\n",
       "      <td>...</td>\n",
       "      <td>...</td>\n",
       "      <td>...</td>\n",
       "      <td>...</td>\n",
       "    </tr>\n",
       "    <tr>\n",
       "      <th>16813</th>\n",
       "      <td>27061</td>\n",
       "      <td>FOLKO</td>\n",
       "      <td>5</td>\n",
       "      <td>2013-06-29 21:05:55</td>\n",
       "      <td>2013-08-02 04:10:53</td>\n",
       "      <td>2013-07-02 16:05:51</td>\n",
       "      <td>3</td>\n",
       "      <td>307.25</td>\n",
       "      <td>Familia Arquibaldo</td>\n",
       "      <td>Rua Orós, 92</td>\n",
       "      <td>Sao Paulo</td>\n",
       "      <td>South America</td>\n",
       "      <td>05442-030</td>\n",
       "      <td>Brazil</td>\n",
       "    </tr>\n",
       "    <tr>\n",
       "      <th>16814</th>\n",
       "      <td>27062</td>\n",
       "      <td>FRANK</td>\n",
       "      <td>2</td>\n",
       "      <td>2014-01-19 12:27:11</td>\n",
       "      <td>2014-01-24 15:15:31</td>\n",
       "      <td>2014-01-27 02:14:31</td>\n",
       "      <td>2</td>\n",
       "      <td>550.50</td>\n",
       "      <td>Bon app'</td>\n",
       "      <td>12, rue des Bouchers</td>\n",
       "      <td>Marseille</td>\n",
       "      <td>Western Europe</td>\n",
       "      <td>13008</td>\n",
       "      <td>France</td>\n",
       "    </tr>\n",
       "    <tr>\n",
       "      <th>16815</th>\n",
       "      <td>27063</td>\n",
       "      <td>ALFKI</td>\n",
       "      <td>5</td>\n",
       "      <td>2014-10-15 09:51:09</td>\n",
       "      <td>2014-11-11 14:31:37</td>\n",
       "      <td>2014-10-16 06:26:55</td>\n",
       "      <td>1</td>\n",
       "      <td>328.50</td>\n",
       "      <td>Furia Bacalhau e Frutos do Mar</td>\n",
       "      <td>Jardim das rosas n. 32</td>\n",
       "      <td>Lisboa</td>\n",
       "      <td>Southern Europe</td>\n",
       "      <td>1675</td>\n",
       "      <td>Portugal</td>\n",
       "    </tr>\n",
       "    <tr>\n",
       "      <th>16816</th>\n",
       "      <td>27064</td>\n",
       "      <td>TRADH</td>\n",
       "      <td>8</td>\n",
       "      <td>2013-02-07 02:06:05</td>\n",
       "      <td>2013-03-14 09:43:16</td>\n",
       "      <td>2013-02-24 10:15:47</td>\n",
       "      <td>3</td>\n",
       "      <td>357.00</td>\n",
       "      <td>Wilman Kala</td>\n",
       "      <td>Keskuskatu 45</td>\n",
       "      <td>Helsinki</td>\n",
       "      <td>Scandinavia</td>\n",
       "      <td>21240</td>\n",
       "      <td>Finland</td>\n",
       "    </tr>\n",
       "    <tr>\n",
       "      <th>16817</th>\n",
       "      <td>27065</td>\n",
       "      <td>ANATR</td>\n",
       "      <td>1</td>\n",
       "      <td>2013-08-31 02:59:28</td>\n",
       "      <td>2013-09-15 23:11:49</td>\n",
       "      <td>2013-09-03 14:09:08</td>\n",
       "      <td>3</td>\n",
       "      <td>233.75</td>\n",
       "      <td>LINO-Delicateses</td>\n",
       "      <td>Ave. 5 de Mayo Porlamar</td>\n",
       "      <td>I. de Margarita</td>\n",
       "      <td>South America</td>\n",
       "      <td>4980</td>\n",
       "      <td>Venezuela</td>\n",
       "    </tr>\n",
       "  </tbody>\n",
       "</table>\n",
       "<p>16818 rows × 14 columns</p>\n",
       "</div>"
      ],
      "text/plain": [
       "          Id CustomerId  EmployeeId           OrderDate         RequiredDate  \\\n",
       "0      10248      VINET           5 2012-07-04 00:00:00           2012-08-01   \n",
       "1      10249      TOMSP           6 2012-07-05 00:00:00           2012-08-16   \n",
       "2      10250      HANAR           4 2012-07-08 00:00:00           2012-08-05   \n",
       "3      10251      VICTE           3 2012-07-08 00:00:00           2012-08-05   \n",
       "4      10252      SUPRD           4 2012-07-09 00:00:00           2012-08-06   \n",
       "...      ...        ...         ...                 ...                  ...   \n",
       "16813  27061      FOLKO           5 2013-06-29 21:05:55  2013-08-02 04:10:53   \n",
       "16814  27062      FRANK           2 2014-01-19 12:27:11  2014-01-24 15:15:31   \n",
       "16815  27063      ALFKI           5 2014-10-15 09:51:09  2014-11-11 14:31:37   \n",
       "16816  27064      TRADH           8 2013-02-07 02:06:05  2013-03-14 09:43:16   \n",
       "16817  27065      ANATR           1 2013-08-31 02:59:28  2013-09-15 23:11:49   \n",
       "\n",
       "               ShippedDate  ShipVia  Freight                        ShipName  \\\n",
       "0               2012-07-16        3    16.75       Vins et alcools Chevalier   \n",
       "1               2012-07-10        1    22.25              Toms Spezialitäten   \n",
       "2               2012-07-12        2    25.00                   Hanari Carnes   \n",
       "3               2012-07-15        1    20.25            Victuailles en stock   \n",
       "4               2012-07-11        2    36.25                Suprêmes délices   \n",
       "...                    ...      ...      ...                             ...   \n",
       "16813  2013-07-02 16:05:51        3   307.25              Familia Arquibaldo   \n",
       "16814  2014-01-27 02:14:31        2   550.50                        Bon app'   \n",
       "16815  2014-10-16 06:26:55        1   328.50  Furia Bacalhau e Frutos do Mar   \n",
       "16816  2013-02-24 10:15:47        3   357.00                     Wilman Kala   \n",
       "16817  2013-09-03 14:09:08        3   233.75                LINO-Delicateses   \n",
       "\n",
       "                   ShipAddress         ShipCity       ShipRegion  \\\n",
       "0           59 rue de l'Abbaye            Reims   Western Europe   \n",
       "1                Luisenstr. 48          Münster   Western Europe   \n",
       "2              Rua do Paço, 67   Rio de Janeiro    South America   \n",
       "3           2, rue du Commerce             Lyon   Western Europe   \n",
       "4         Boulevard Tirou, 255        Charleroi   Western Europe   \n",
       "...                        ...              ...              ...   \n",
       "16813             Rua Orós, 92        Sao Paulo    South America   \n",
       "16814     12, rue des Bouchers        Marseille   Western Europe   \n",
       "16815   Jardim das rosas n. 32           Lisboa  Southern Europe   \n",
       "16816            Keskuskatu 45         Helsinki      Scandinavia   \n",
       "16817  Ave. 5 de Mayo Porlamar  I. de Margarita    South America   \n",
       "\n",
       "      ShipPostalCode ShipCountry  \n",
       "0              51100      France  \n",
       "1              44087     Germany  \n",
       "2          05454-876      Brazil  \n",
       "3              69004      France  \n",
       "4             B-6000     Belgium  \n",
       "...              ...         ...  \n",
       "16813      05442-030      Brazil  \n",
       "16814          13008      France  \n",
       "16815           1675    Portugal  \n",
       "16816          21240     Finland  \n",
       "16817           4980   Venezuela  \n",
       "\n",
       "[16818 rows x 14 columns]"
      ]
     },
     "execution_count": 4,
     "metadata": {},
     "output_type": "execute_result"
    }
   ],
   "source": [
    "pd.concat([old, new])"
   ]
  },
  {
   "cell_type": "markdown",
   "metadata": {},
   "source": [
    "## List comprehension\n",
    "\n",
    "It is a manipulation of lists.\n"
   ]
  },
  {
   "cell_type": "code",
   "execution_count": 5,
   "metadata": {
    "tags": [
     "show"
    ]
   },
   "outputs": [],
   "source": [
    "longlist = [1, 4, 5, 6, 2, 3, 1, 6, 2, 9, 12, 4]"
   ]
  },
  {
   "cell_type": "markdown",
   "metadata": {},
   "source": [
    "Extract the elements of longlist that are smaller than 5."
   ]
  },
  {
   "cell_type": "code",
   "execution_count": 6,
   "metadata": {},
   "outputs": [
    {
     "data": {
      "text/plain": [
       "[1, 4, 2, 3, 1, 2, 4]"
      ]
     },
     "execution_count": 6,
     "metadata": {},
     "output_type": "execute_result"
    }
   ],
   "source": [
    "[i for i in longlist if i < 5]"
   ]
  },
  {
   "cell_type": "markdown",
   "metadata": {},
   "source": [
    "Extract the elements of longlist that are smaller than 5, moreover those elements must be multiplied by 3."
   ]
  },
  {
   "cell_type": "code",
   "execution_count": 7,
   "metadata": {},
   "outputs": [
    {
     "data": {
      "text/plain": [
       "[3, 12, 6, 9, 3, 6, 12]"
      ]
     },
     "execution_count": 7,
     "metadata": {},
     "output_type": "execute_result"
    }
   ],
   "source": [
    "[i * 3 for i in longlist if i < 5]"
   ]
  },
  {
   "cell_type": "markdown",
   "metadata": {},
   "source": [
    "Compute all natural squares that are smaller than 1000"
   ]
  },
  {
   "cell_type": "markdown",
   "metadata": {},
   "source": [
    "import math\n",
    "[n * n for n in range(int(math.sqrt(1000)))]"
   ]
  },
  {
   "cell_type": "code",
   "execution_count": 8,
   "metadata": {},
   "outputs": [
    {
     "data": {
      "text/plain": [
       "[1, 4, 2, 3, 1, 2, 4]"
      ]
     },
     "execution_count": 8,
     "metadata": {},
     "output_type": "execute_result"
    }
   ],
   "source": [
    "[i for i in longlist if i < 5]"
   ]
  }
 ],
 "metadata": {
  "celltoolbar": "Tags",
  "kernelspec": {
   "display_name": "Python 3 (ipykernel)",
   "language": "python",
   "name": "python3"
  },
  "language_info": {
   "codemirror_mode": {
    "name": "ipython",
    "version": 3
   },
   "file_extension": ".py",
   "mimetype": "text/x-python",
   "name": "python",
   "nbconvert_exporter": "python",
   "pygments_lexer": "ipython3",
   "version": "3.10.6"
  }
 },
 "nbformat": 4,
 "nbformat_minor": 4
}
