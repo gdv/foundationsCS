{
 "cells": [
  {
   "cell_type": "markdown",
   "metadata": {},
   "source": [
    "# Dictionaries"
   ]
  },
  {
   "cell_type": "markdown",
   "metadata": {},
   "source": [
    "#### 1) Print all natural numbers from 1 to 100 with the following caveat: multiples of 3 must be replaced by the string `fizz`, multiples of 5 must be replaced by the string `buzz`, multiples of 15 must be replaced by the string `fizzbuzz`."
   ]
  },
  {
   "cell_type": "markdown",
   "metadata": {},
   "source": [
    "#### 2) Create a dictionary (`squares`) in which the keys are the numbers between 1 and 100 and the values are the square of the keys."
   ]
  },
  {
   "cell_type": "markdown",
   "metadata": {},
   "source": [
    "#### 3) Iterate over `squares` and print the `(key, value)` pair if and only if `key` is either a multiple of 3 or 5."
   ]
  },
  {
   "cell_type": "markdown",
   "metadata": {},
   "source": [
    "#### 4) Create a dictionary (`roots`) in which the keys are the numbers between 1 and 100 and the values are the square roots of the keys. Remember that computing the square root is equal to elevate to the $1/2$ power."
   ]
  },
  {
   "cell_type": "markdown",
   "metadata": {},
   "source": [
    "#### 5) Merge `squares` and `roots` and create a new dictionary (`squares_and_roots`) that maps each key to another dictionary with `'square'` and `'root'` as keys (`squares_and_roots[n]['square']` contains the square of `n` and `square_and_roots[n]['root']` contains the root of `n`)."
   ]
  },
  {
   "cell_type": "markdown",
   "metadata": {},
   "source": [
    "#### 6) For each key in `squares_and_roots` print the key, the square, and the root on a single line."
   ]
  }
 ],
 "metadata": {
  "kernelspec": {
   "display_name": "Python 3 (ipykernel)",
   "language": "python",
   "name": "python3"
  },
  "language_info": {
   "codemirror_mode": {
    "name": "ipython",
    "version": 3
   },
   "file_extension": ".py",
   "mimetype": "text/x-python",
   "name": "python",
   "nbconvert_exporter": "python",
   "pygments_lexer": "ipython3",
   "version": "3.11.5"
  }
 },
 "nbformat": 4,
 "nbformat_minor": 4
}
