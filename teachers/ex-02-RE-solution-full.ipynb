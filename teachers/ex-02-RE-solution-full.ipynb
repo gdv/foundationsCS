{
 "cells": [
  {
   "cell_type": "markdown",
   "metadata": {},
   "source": [
    "# Regular Expression\n",
    "\n",
    "![title](https://imgs.xkcd.com/comics/regular_expressions.png)\n",
    "\n",
    "A **regular expression** (RE) is a compact notation for representing a collection of strings.\n",
    "REs are defined using a mini-language different from Python and are used to search and substitute patterns and to parse, split, and validate strings.\n",
    "\n",
    "In Python, REs and REs functionalities are defined in the `re` module."
   ]
  },
  {
   "cell_type": "code",
   "execution_count": 1,
   "metadata": {},
   "outputs": [],
   "source": [
    "import re"
   ]
  },
  {
   "cell_type": "markdown",
   "metadata": {},
   "source": [
    "The most common task with REs is to search a given pattern in a string.\n",
    "Let's start with searching a single character in a string."
   ]
  },
  {
   "cell_type": "code",
   "execution_count": 2,
   "metadata": {},
   "outputs": [],
   "source": [
    "occurrence = re.search(pattern='u', string='George Lucas')"
   ]
  },
  {
   "cell_type": "markdown",
   "metadata": {},
   "source": [
    "`re.search` returns a [Match object](https://docs.python.org/3/library/re.html#match-objects)."
   ]
  },
  {
   "cell_type": "code",
   "execution_count": 3,
   "metadata": {},
   "outputs": [
    {
     "data": {
      "text/plain": [
       "_sre.SRE_Match"
      ]
     },
     "execution_count": 3,
     "metadata": {},
     "output_type": "execute_result"
    }
   ],
   "source": [
    "type(occurrence)"
   ]
  },
  {
   "cell_type": "markdown",
   "metadata": {},
   "source": [
    "The Match object evaluate to True if the pattern appears in the string, otherwise it is None."
   ]
  },
  {
   "cell_type": "code",
   "execution_count": 4,
   "metadata": {},
   "outputs": [
    {
     "name": "stdout",
     "output_type": "stream",
     "text": [
      "occurrence evalutates to True.\n",
      "z_occurrence does not evaluate to True.\n"
     ]
    }
   ],
   "source": [
    "z_occurrence = re.search('z', 'George Lucas')\n",
    "\n",
    "if occurrence:\n",
    "    print(\"occurrence evalutates to True.\")\n",
    "else:\n",
    "    print(\"occurrence does not evaluate to True.\")\n",
    "    \n",
    "if z_occurrence:\n",
    "    print('z_occurrence evaluates to True.')\n",
    "else:\n",
    "    print('z_occurrence does not evaluate to True.')"
   ]
  },
  {
   "cell_type": "markdown",
   "metadata": {},
   "source": [
    "The match object can be queried to retrieve the information about the match occurrence."
   ]
  },
  {
   "cell_type": "code",
   "execution_count": 5,
   "metadata": {},
   "outputs": [
    {
     "name": "stdout",
     "output_type": "stream",
     "text": [
      "Pattern searched: u\n",
      "String Provided: George Lucas\n",
      "Occurrence start: 8\n",
      "Occurrence end: 9\n",
      "Match interval: (8, 9)\n",
      "String: u\n"
     ]
    }
   ],
   "source": [
    "print(\"Pattern searched: {}\\nString Provided: {}\".format(occurrence.re.pattern,\n",
    "                                                         occurrence.string))\n",
    "print(\"Occurrence start: {}\\nOccurrence end: {}\\nMatch interval: {}\\nString: {}\".format(occurrence.start(),\n",
    "                                                                                        occurrence.end(),\n",
    "                                                                                        occurrence.span(),\n",
    "                                                                                        occurrence.group()))"
   ]
  },
  {
   "cell_type": "markdown",
   "metadata": {},
   "source": [
    "## Basics of the RE langage\n",
    "\n",
    "In a RE every character matches itself except for the following characters.\n",
    "\n",
    "| Character | Meaning |\n",
    "|:--- | :--- |\n",
    "| ^ | Beginning of line |\n",
    "| $ | End of line |\n",
    "| * | Match 0+ times the previous character in RE |\n",
    "| + | Match 1+ times the previous character in RE |\n",
    "| ? | Match 0 or 1 times the previous character in RE |\n",
    "\n",
    "It is possible to match any of the character in the previous table by \"escaping\" it using `\\`.  For example, `\\+` matches the character `+`.\n",
    "To group multiple characters just write them the correct sequence.\n",
    "\n",
    "Moreover, characters `[` and `]` are used to group together other characters in a character class.\n",
    "For example `[abcd]` means *\"any character between a, b, c and d\"*.\n",
    "`[abcd]` and `[a-d]` are the same character class.\n",
    "\n",
    "To match multiple patterns, group all the patterns between parentheses, and divide them using `|`.\n",
    "For example `(ab|ca|de)` matches `ab`, `ca`, and `de`.\n",
    "\n",
    "If `^` is inside a character class, it complements the elements inside the class.  This means that `[^a-d]` represents any character that is not a, b, c, nor d.\n",
    "\n",
    "For example, given the lyrics of this famous song"
   ]
  },
  {
   "cell_type": "code",
   "execution_count": 6,
   "metadata": {},
   "outputs": [],
   "source": [
    "lyrics=\"\"\"La, la, la, la, la, la, la, la\n",
    "La, la, la, la, la, la, la, la\n",
    "La, la, la, la, la, la, la, la\n",
    "La, la, la, la, la, la, la, la\n",
    "I just can't get you out of my head\n",
    "Boy, your lovin' is all I think about\n",
    "I just can't get you out of my head\n",
    "Boy, its more than I dare to think about\n",
    "La, la, la, la, la, la, la, la\n",
    "La, la, la, la, la, la, la, la\n",
    "I just can't get you out of my head\n",
    "Boy, your lovin' is all I think about\n",
    "I just can't get you out of my head\n",
    "Boy, its more than I dare to think about\n",
    "Every night\n",
    "Every day\n",
    "Just to be there in your arms\n",
    "Won't you stay\n",
    "Won't you stay\n",
    "Stay forever and ever and ever ah ah\n",
    "La, la, la, la, la, la, la, la\n",
    "La, la, la, la, la, la, la, la\n",
    "La, la, la, la, la, la, la, la\n",
    "La, la, la, la, la, la, la, la\n",
    "I just can't get you out of my head\n",
    "Boy, your lovin' is all I think about\n",
    "I just can't get you out of my head\n",
    "Boy, its more than I dare to think about\n",
    "There's a dark secret in me\n",
    "Don't leave me lost in your arms\n",
    "Set me free\n",
    "Feel the need in me\n",
    "Set me free\n",
    "Stay forever and ever and ever ah ah\n",
    "La, la, la, la, la, la, la, la\n",
    "La, la, la, la, la, la, la, la\n",
    "La, la, la, la, la, la, la, la\n",
    "La, la, la, la, la, la, la, la\n",
    "I just can't get you out of my head (La, la, la La, la, la, la, la)\"\"\".split('\\n')"
   ]
  },
  {
   "cell_type": "markdown",
   "metadata": {},
   "source": [
    "If we want do something on all the verses but the chorus verses (\"La, la, la, la [...]\") we can use the following code snippets."
   ]
  },
  {
   "cell_type": "code",
   "execution_count": 7,
   "metadata": {},
   "outputs": [],
   "source": [
    "def do_something(line):\n",
    "    # Do whatever, do nothing now\n",
    "    # print(line)\n",
    "    return line"
   ]
  },
  {
   "cell_type": "code",
   "execution_count": 8,
   "metadata": {
    "scrolled": true
   },
   "outputs": [
    {
     "name": "stdout",
     "output_type": "stream",
     "text": [
      "The slowest run took 9.74 times longer than the fastest. This could mean that an intermediate result is being cached.\n",
      "10000 loops, best of 3: 35.8 µs per loop\n"
     ]
    }
   ],
   "source": [
    "%%timeit\n",
    "for line in lyrics:\n",
    "    occ = re.search('^(La, |la, )+la$', line)\n",
    "    if not occ:\n",
    "        do_something(line)"
   ]
  },
  {
   "cell_type": "code",
   "execution_count": 9,
   "metadata": {
    "scrolled": true
   },
   "outputs": [
    {
     "name": "stdout",
     "output_type": "stream",
     "text": [
      "The slowest run took 5.83 times longer than the fastest. This could mean that an intermediate result is being cached.\n",
      "10000 loops, best of 3: 34 µs per loop\n"
     ]
    }
   ],
   "source": [
    "%%timeit\n",
    "for line in lyrics:\n",
    "    occ = re.search('^([Ll]a, )+la$', line)\n",
    "    if not occ:\n",
    "        do_something(line)"
   ]
  },
  {
   "cell_type": "markdown",
   "metadata": {},
   "source": [
    "## Character Class Shorthands\n",
    "\n",
    "Python also defines some metacharacters for common character classes.\n",
    "\n",
    "| Character | Meaning |\n",
    "|:--- | :--- |\n",
    "| `.` | Any character |\n",
    "| `\\d` | Any digit, equivalent to `[0-9]` |\n",
    "| `\\D` | Any nondigit, equivalent to `[^0-9] |\n",
    "| `\\s` | Any whitespace (`\\t`, `\\n`, ...) |\n",
    "| `\\S` | Any nonwhitespace |\n",
    "| `\\w` | Any word character, equivalent to `[a-zA-Z0-9_]` |\n",
    "| `\\W` | Any nonword character |\n",
    "\n",
    "## Quantifiers\n",
    "\n",
    "A quantifier appears after an expression of a RE and has the form `{m, n}` where `m` and `n` are the minimum and maximum times the expression the quantifier applies to must match.\n",
    "\n",
    "For example\n",
    "```python\n",
    "re.search('(bla){2,100}', 'blablabla')\n",
    "```\n",
    "will return a match whereas\n",
    "```python\n",
    "re.search('(bla){4,100}', 'blablabla')\n",
    "```\n",
    "won't."
   ]
  },
  {
   "cell_type": "code",
   "execution_count": 10,
   "metadata": {},
   "outputs": [
    {
     "name": "stdout",
     "output_type": "stream",
     "text": [
      "<_sre.SRE_Match object; span=(0, 9), match='blablabla'>\n"
     ]
    }
   ],
   "source": [
    "m = re.search('(bla){2,100}', 'blablabla')\n",
    "print(m)"
   ]
  },
  {
   "cell_type": "code",
   "execution_count": 11,
   "metadata": {},
   "outputs": [
    {
     "name": "stdout",
     "output_type": "stream",
     "text": [
      "None\n"
     ]
    }
   ],
   "source": [
    "m = re.search('(bla){4,100}', 'blablabla')\n",
    "print(m)"
   ]
  },
  {
   "cell_type": "markdown",
   "metadata": {},
   "source": [
    "## Compiling REs\n",
    "\n",
    "Usually REs are applied over and over.\n",
    "To speed up the processing it is possible to *compile* the regular expression into a compiled regex object and use it as many times as we like.\n",
    "For example, we can rewrite one of the previous examples as follows."
   ]
  },
  {
   "cell_type": "code",
   "execution_count": 12,
   "metadata": {
    "scrolled": true
   },
   "outputs": [
    {
     "name": "stdout",
     "output_type": "stream",
     "text": [
      "10000 loops, best of 3: 24.1 µs per loop\n"
     ]
    }
   ],
   "source": [
    "%%timeit\n",
    "la_re = re.compile('^(La, |la, )+la$')\n",
    "for line in lyrics:\n",
    "    occ = la_re.search(line)\n",
    "    if not occ:\n",
    "        do_something(line)"
   ]
  },
  {
   "cell_type": "markdown",
   "metadata": {},
   "source": [
    "## Compilation flags\n",
    "\n",
    "Compilation flags let you modify some aspects of how REs work and are passed as arguments to the `re.compile` function.\n",
    "The most important compilation flag for us will be `re.IGNORECASE` (also `re.I`) that enables to match RE in a case insensitive fashion.\n",
    "This means that a lowercase and uppercase character will be treated as the same element (i.e., there will be no distinction between `a` and `A`).\n",
    "For a more in-depth analysis of compilation flags please refer to the [documentation](https://docs.python.org/3.6/howto/regex.html#compilation-flags)."
   ]
  },
  {
   "cell_type": "code",
   "execution_count": 13,
   "metadata": {
    "scrolled": true
   },
   "outputs": [
    {
     "name": "stdout",
     "output_type": "stream",
     "text": [
      "CPU times: user 403 µs, sys: 6 µs, total: 409 µs\n",
      "Wall time: 417 µs\n"
     ]
    }
   ],
   "source": [
    "%%time\n",
    "la_re = re.compile('^(la, )+la$', re.IGNORECASE)\n",
    "for line in lyrics:\n",
    "    occ = la_re.search(line)\n",
    "    if not occ:\n",
    "        do_something(line)"
   ]
  },
  {
   "cell_type": "markdown",
   "metadata": {},
   "source": [
    "# RE functions\n",
    "\n",
    "For now we only used the `re.search` function but there are many more.\n",
    "The following table summarizes the most important functions.\n",
    "\n",
    "| Function | Description |\n",
    "|:--- |:--- |\n",
    "| [`re.findall(string)`](https://docs.python.org/3/library/re.html#re.Pattern.findall) | Returns all nonoverlapping matches of the RE (as a list of strings)|\n",
    "| [`re.match(string)`](https://docs.python.org/3/library/re.html#re.Pattern.match) | Returns a match object if the RE matches *at the start* of the string |\n",
    "| [`re.search(string)`](https://docs.python.org/3/library/re.html#re.Pattern.search) | Returns a match object if the RE matches anywhere in the string |\n",
    "| [`re.split(string)`](https://docs.python.org/3/library/re.html#re.Pattern.split) | Returns the list of strings that results from splitting string s on every occurrence of the RE |\n",
    "| [`re.sub(repl, string)`](https://docs.python.org/3/library/re.html#re.Pattern.sub) | Returns a coput of the string with every match of the RE replaced by `repl` |"
   ]
  },
  {
   "cell_type": "markdown",
   "metadata": {},
   "source": [
    "## Grouping\n",
    "\n",
    "Frequently you need to obtain more information than just whether the RE matched or not. Regular expressions are often used to dissect strings by writing a RE divided into several subgroups which match different components of interest [(see this linki)](https://docs.python.org/3/howto/regex.html#grouping).\n",
    "You can access the groups by using the `group()` method of the match.\n",
    "\n",
    "For example"
   ]
  },
  {
   "cell_type": "code",
   "execution_count": 14,
   "metadata": {},
   "outputs": [
    {
     "name": "stdout",
     "output_type": "stream",
     "text": [
      "Whole match:   3          Giorgio   Chiellini\n",
      "Name:          Giorgio\n",
      "Surname:       Chiellini\n",
      "Whole match:   14 Blaise                        Matuidi\n",
      "Shirt number:  14\n",
      "Surname:       Matuidi\n"
     ]
    }
   ],
   "source": [
    "name_surname_re = re.compile(\"^(\\d+)\\s+(\\w+)\\s+(\\w+)$\", re.IGNORECASE)\n",
    "\n",
    "m = name_surname_re.search(\"3          Giorgio   Chiellini\")\n",
    "print(\"Whole match:  \", m.group())\n",
    "print(\"Name:         \", m.group(2))\n",
    "print(\"Surname:      \", m.group(3))\n",
    "\n",
    "m = name_surname_re.search(\"14 Blaise                        Matuidi\")\n",
    "print(\"Whole match:  \", m.group())\n",
    "print(\"Shirt number: \", m.group(1))\n",
    "print(\"Surname:      \", m.group(3))"
   ]
  },
  {
   "cell_type": "markdown",
   "metadata": {},
   "source": [
    "## Named groups\n",
    "\n",
    "Accessing groups by their position in the match is most of the times tedious.\n",
    "Python introduces **named group** to refer to each group using a key.\n",
    "The syntax for a named group is `(?P<key>*expression*)` were `<key>` is the key used and `*expression*` is the RE we're looking for."
   ]
  },
  {
   "cell_type": "code",
   "execution_count": 15,
   "metadata": {},
   "outputs": [
    {
     "name": "stdout",
     "output_type": "stream",
     "text": [
      "Whole match:   3 Giorgio            Chiellini\n",
      "Name:          Giorgio\n",
      "Surname:       Chiellini\n",
      "Whole match:   14 Blaise                        Matuidi\n",
      "Shirt number:  14\n",
      "Surname:       Matuidi\n"
     ]
    }
   ],
   "source": [
    "ns_named_re = re.compile(\"^(?P<shirtnumber>\\d+)\\s+(?P<name>\\w+)\\s+(?P<surname>\\w+)$\")\n",
    "\n",
    "m = ns_named_re.search(\"3 Giorgio            Chiellini\")\n",
    "print(\"Whole match:  \", m.group())\n",
    "print(\"Name:         \", m.group(\"name\"))\n",
    "print(\"Surname:      \", m.group(\"surname\"))\n",
    "\n",
    "m = ns_named_re.search(\"14 Blaise                        Matuidi\")\n",
    "print(\"Whole match:  \", m.group())\n",
    "print(\"Shirt number: \", m.group(\"shirtnumber\"))\n",
    "print(\"Surname:      \", m.group(\"surname\"))"
   ]
  },
  {
   "cell_type": "markdown",
   "metadata": {},
   "source": [
    "## Backreferences\n",
    "\n",
    "Backreferences in a pattern allow you to specify that the contents of an earlier capturing group must also be found at the current location in the string. For example, `\\1` will succeed if the exact contents of group 1 can be found at the current position, and fails otherwise.\n",
    "\n",
    "Backreferences are usueful in many operations; for example if we want to detect doubled words in a string the following RE will suffice."
   ]
  },
  {
   "cell_type": "code",
   "execution_count": 16,
   "metadata": {},
   "outputs": [
    {
     "name": "stdout",
     "output_type": "stream",
     "text": [
      "['doubled', 'is', 'reports']\n"
     ]
    }
   ],
   "source": [
    "doubled_words = re.findall(r'\\b(\\w+)\\s+\\1\\b',\n",
    "                          'writing doubled doubled words is is a common mistake while writing papers and reports reports')\n",
    "print(doubled_words)"
   ]
  },
  {
   "cell_type": "markdown",
   "metadata": {},
   "source": [
    "We can also use backreferences to remove doubled words from a sentence."
   ]
  },
  {
   "cell_type": "code",
   "execution_count": 17,
   "metadata": {},
   "outputs": [
    {
     "name": "stdout",
     "output_type": "stream",
     "text": [
      "writing doubled words is a common mistake while writing papers and reports\n"
     ]
    }
   ],
   "source": [
    "doubled_words_removed = re.sub(r'\\b(\\w+)\\s+\\1\\b', r'\\1',\n",
    "                              'writing doubled doubled words is is a common mistake while writing papers and reports reports')\n",
    "\n",
    "print(doubled_words_removed)"
   ]
  },
  {
   "cell_type": "markdown",
   "metadata": {},
   "source": [
    "Note that this RE only works for non-overlapping matches!"
   ]
  },
  {
   "cell_type": "code",
   "execution_count": 18,
   "metadata": {},
   "outputs": [
    {
     "name": "stdout",
     "output_type": "stream",
     "text": [
      "three three\n"
     ]
    }
   ],
   "source": [
    "doubled_words_removed = re.sub(r'\\b(\\w+)\\s+\\1\\b', r'\\1',\n",
    "                              'three three three')\n",
    "\n",
    "print(doubled_words_removed)"
   ]
  },
  {
   "cell_type": "markdown",
   "metadata": {},
   "source": [
    "# Exercises\n",
    "\n",
    "\n"
   ]
  },
  {
   "cell_type": "markdown",
   "metadata": {},
   "source": [
    "**1)** The file `ex-data/numbers.txt` contains 10000 lines.  Each line contains either a number or a string, find how many even number are in the file."
   ]
  },
  {
   "cell_type": "code",
   "execution_count": 19,
   "metadata": {},
   "outputs": [
    {
     "name": "stdout",
     "output_type": "stream",
     "text": [
      "4789\n"
     ]
    }
   ],
   "source": [
    "is_even_re = re.compile('[0-9]*[02468]$')\n",
    "even_numbers = 0\n",
    "\n",
    "with open('ex-data/numbers.txt') as fin:\n",
    "    for line in fin:\n",
    "        line = line.strip('\\n')\n",
    "        if is_even_re.search(line):\n",
    "            even_numbers += 1\n",
    "\n",
    "print(even_numbers)"
   ]
  },
  {
   "cell_type": "markdown",
   "metadata": {},
   "source": [
    "**2)** The file `ex-data/email.txt` contains 80000 lines.\n",
    "Each line might start with some whitespaces (>=0), is followed by an email address, a number (>0) of spaces, and an age.\n",
    "Each email address is composed as follows:\n",
    "* a name\n",
    "* a separation character (either `.`, `_`, or `!`)\n",
    "* a surname\n",
    "* an optional integer number\n",
    "* a @ symbol\n",
    "* a domain\n",
    "\n",
    "Using REs and the concepts from previous lessons, find how many times each domain was used.\n",
    "\n",
    "Examples of possible lines in the file:\n",
    "```\n",
    "riva!menist57@bofthew.com   70  \n",
    "Brittan_Knorr69@tyldd.com            42  \n",
    "Cammy_Shawcroft@antichef.net           28  \n",
    "Lizzie!woolford@dispostable.com 75  \n",
    "Lurette_beachel@fakeinbox.com           48  \n",
    "moria.ivery54@twinmail.de          64  \n",
    "luciana.Leclaire48@gowikibooks.com       50  \n",
    "```   "
   ]
  },
  {
   "cell_type": "code",
   "execution_count": 20,
   "metadata": {},
   "outputs": [
    {
     "name": "stdout",
     "output_type": "stream",
     "text": [
      "fastkawasaki.com / 170\n",
      "www.mailinator.com / 169\n",
      "qq.com / 151\n",
      "antispam.de / 175\n",
      "pjjkp.com / 154\n",
      "jnxjn.com / 160\n",
      "rejectmail.com / 176\n",
      "cubiclink.com / 171\n",
      "imails.info / 179\n",
      "mailslite.com / 172\n",
      "twinmail.de / 179\n",
      "675hosting.org / 168\n",
      "mypartyclip.de / 168\n",
      "spamcero.com / 144\n",
      "spambob.net / 174\n",
      "dumpyemail.com / 170\n",
      "trashymail.com / 184\n",
      "upliftnow.com / 169\n",
      "mx0.wwwnew.eu / 172\n",
      "trash-amil.com / 189\n",
      "netzidiot.de / 165\n",
      "hochsitze.com / 164\n",
      "thankyou2010.com / 173\n",
      "fr33mail.info / 169\n",
      "zippymail.info / 178\n",
      "nus.edu.sg / 146\n",
      "trashymail.net / 200\n",
      "rtrtr.com / 163\n",
      "a-bc.net / 176\n",
      "myspamless.com / 169\n",
      "emailmiser.com / 171\n",
      "poofy.org / 163\n",
      "m4ilweb.info / 174\n",
      "moncourrier.fr.nf / 162\n",
      "mailmetrash.com / 171\n",
      "viewcastmedia.org / 178\n",
      "politikerclub.de / 179\n",
      "gishpuppy.com / 191\n",
      "mintemail.com / 136\n",
      "cosmorph.com / 165\n",
      "guerillamail.org / 158\n",
      "yopmail.net / 180\n",
      "mailzilla.org / 171\n",
      "dodgit.com / 187\n",
      "despammed.com / 161\n",
      "klassmaster.net / 153\n",
      "0815.ru / 177\n",
      "spamavert.com / 169\n",
      "dm.w3internet.co.ukexample.com / 176\n",
      "nospamthanks.info / 156\n",
      "lol.ovpn.to / 162\n",
      "klzlk.com / 183\n",
      "amiriindustries.com / 164\n",
      "jetable.org / 180\n",
      "mailme.ir / 159\n",
      "fastchrysler.com / 154\n",
      "otherinbox.com / 164\n",
      "meltmail.com / 151\n",
      "mail4trash.com / 167\n",
      "jetable.fr.nf / 156\n",
      "fastchevy.com / 164\n",
      "mailincubator.com / 179\n",
      "spamkill.info / 183\n",
      "ovpn.to / 179\n",
      "mycleaninbox.net / 167\n",
      "guerrillamail.org / 179\n",
      "sharklasers.com / 166\n",
      "whyspam.me / 144\n",
      "kulturbetrieb.info / 169\n",
      "online.ms / 170\n",
      "uplipht.com / 164\n",
      "wegwerfadresse.de / 177\n",
      "emailias.com / 169\n",
      "spaml.de / 186\n",
      "incognitomail.org / 158\n",
      "spamgourmet.net / 173\n",
      "obobbo.com / 180\n",
      "trashmail.ws / 162\n",
      "mailblocks.com / 168\n",
      "oneoffemail.com / 165\n",
      "willselfdestruct.com / 159\n",
      "mega.zik.dj / 183\n",
      "hidemail.de / 180\n",
      "privacy.net / 161\n",
      "inboxclean.com / 151\n",
      "enterto.com / 169\n",
      "getonemail.com / 194\n",
      "punkass.com / 152\n",
      "mailzilla.com / 160\n",
      "ourklips.com / 155\n",
      "disposableaddress.com / 152\n",
      "ipoo.org / 165\n",
      "emailigo.de / 138\n",
      "fakeinformation.com / 162\n",
      "mail.mezimages.net / 167\n",
      "mailcatch.com / 174\n",
      "rppkn.com / 188\n",
      "insorg-mail.info / 167\n",
      "tilien.com / 168\n",
      "myphantomemail.com / 166\n",
      "e4ward.com / 190\n",
      "2prong.com / 134\n",
      "owlpic.com / 181\n",
      "jetable.net / 160\n",
      "teleworm.com / 157\n",
      "guerillamail.com / 160\n",
      "zoemail.org / 173\n",
      "sandelf.de / 163\n",
      "mailbidon.com / 174\n",
      "casualdx.com / 136\n",
      "mailsiphon.com / 189\n",
      "fastmazda.com / 163\n",
      "netmails.net / 162\n",
      "filzmail.com / 157\n",
      "monmail.fr.nf / 178\n",
      "guerrillamail.net / 165\n",
      "nospamfor.us / 155\n",
      "sibmail.com / 179\n",
      "temporarily.de / 183\n",
      "tempemail.biz / 180\n",
      "6url.com / 194\n",
      "ieatspam.eu / 155\n",
      "notmailinator.com / 170\n",
      "etranquil.com / 163\n",
      "inboxclean.org / 166\n",
      "disposemail.com / 153\n",
      "great-host.in / 146\n",
      "spambox.irishspringrealty.com / 155\n",
      "neverbox.com / 160\n",
      "emailto.de / 146\n",
      "temporaryinbox.com / 173\n",
      "discardmail.de / 164\n",
      "emailxfer.com / 182\n",
      "mail.by / 160\n",
      "viditag.com / 156\n",
      "suremail.info / 157\n",
      "letthemeatspam.com / 166\n",
      "spamthisplease.com / 149\n",
      "thanksnospam.info / 152\n",
      "yopmail.fr / 191\n",
      "link2mail.net / 171\n",
      "mail-temporaire.fr / 166\n",
      "rmqkr.net / 165\n",
      "nomail.xl.cx / 178\n",
      "netmails.com / 180\n",
      "temporaryforwarding.com / 168\n",
      "get1mail.com / 174\n",
      "spamfree24.net / 170\n",
      "sogetthis.com / 190\n",
      "hulapla.de / 166\n",
      "nospam4.us / 165\n",
      "gowikifilms.com / 157\n",
      "dandikmail.com / 153\n",
      "spamcannon.com / 161\n",
      "guerillamail.biz / 153\n",
      "xoxy.net / 160\n",
      "bofthew.com / 172\n",
      "fasttoyota.com / 166\n",
      "gowikinetwork.com / 150\n",
      "oopi.org / 174\n",
      "mytrashmail.com / 171\n",
      "mailexpire.com / 157\n",
      "regbypass.comsafe-mail.net / 163\n",
      "30minutemail.com / 176\n",
      "wegwerfmail.net / 161\n",
      "email60.com / 172\n",
      "mierdamail.com / 146\n",
      "myspaceinc.net / 174\n",
      "spamfree24.org / 153\n",
      "gowikitv.com / 153\n",
      "antichef.net / 168\n",
      "nomorespamemails.com / 156\n",
      "pookmail.com / 170\n",
      "trashemail.de / 164\n",
      "slopsbox.com / 157\n",
      "dumpandjunk.com / 157\n",
      "tempinbox.com / 197\n",
      "fastsubaru.com / 173\n",
      "spamoff.de / 167\n",
      "trashmailer.com / 172\n",
      "h8s.org / 163\n",
      "iwi.net / 152\n",
      "spambox.us / 175\n",
      "tempmail2.com / 158\n",
      "jetable.com / 194\n",
      "spambog.ru / 164\n",
      "wh4f.org / 158\n",
      "spamify.com / 176\n",
      "teewars.org / 169\n",
      "spamobox.com / 188\n",
      "emz.net / 155\n",
      "0wnd.net / 144\n",
      "objectmail.com / 185\n",
      "killmail.com / 170\n",
      "tmailinator.com / 177\n",
      "winemaven.info / 177\n",
      "gowikicampus.com / 156\n",
      "dacoolest.com / 156\n",
      "garliclife.com / 184\n",
      "hatespam.org / 136\n",
      "antichef.com / 175\n",
      "zoaxe.com / 140\n",
      "snakemail.com / 147\n",
      "guerrillamail.biz / 157\n",
      "rklips.com / 190\n",
      "mailin8r.com / 185\n",
      "zehnminutenmail.de / 172\n",
      "cust.in / 173\n",
      "4warding.com / 182\n",
      "lifebyfood.com / 180\n",
      "trillianpro.com / 164\n",
      "nomail2me.com / 160\n",
      "mailnull.com / 171\n",
      "courriel.fr.nf / 151\n",
      "www.e4ward.com / 176\n",
      "shitmail.me / 188\n",
      "emailsensei.com / 170\n",
      "guerrillamail.de / 163\n",
      "tyldd.com / 174\n",
      "mailmoat.com / 168\n",
      "ghosttexter.de / 159\n",
      "speed.1s.fr / 164\n",
      "gsrv.co.uk / 163\n",
      "mailfreeonline.com / 165\n",
      "gowikitravel.com / 171\n",
      "lr78.com / 163\n",
      "mailshell.com / 153\n",
      "shortmail.net / 174\n",
      "cool.fr.nf / 166\n",
      "nowmymail.com / 168\n",
      "broadbandninja.com / 172\n",
      "amiri.net / 165\n",
      "deadaddress.com / 142\n",
      "beefmilk.com / 159\n",
      "anonbox.net / 205\n",
      "675hosting.net / 172\n",
      "incognitomail.com / 195\n",
      "explodemail.com / 162\n",
      "klassmaster.com / 153\n",
      "mailme.lv / 155\n",
      "soodonims.com / 157\n",
      "veryrealemail.com / 157\n",
      "spamslicer.com / 165\n",
      "supergreatmail.com / 175\n",
      "skeefmail.com / 161\n",
      "kurzepost.de / 159\n",
      "fastnissan.com / 129\n",
      "throwawayemailaddress.com / 168\n",
      "choicemail1.com / 145\n",
      "onewaymail.com / 167\n",
      "safetymail.info / 150\n",
      "SpamHereLots.com / 161\n",
      "maileater.com / 176\n",
      "bugmenot.com / 143\n",
      "spamcowboy.org / 158\n",
      "safetypost.de / 167\n",
      "noclickemail.com / 145\n",
      "prtnx.com / 156\n",
      "ephemail.net / 182\n",
      "selfdestructingmail.com / 159\n",
      "fastsuzuki.com / 151\n",
      "kasmail.com / 192\n",
      "dodgeit.com / 175\n",
      "spambog.com / 146\n",
      "spamthis.co.uk / 170\n",
      "haltospam.com / 164\n",
      "regbypass.com / 177\n",
      "7tags.com / 180\n",
      "recode.me / 174\n",
      "ajaxapp.net / 145\n",
      "nurfuerspam.de / 162\n",
      "yopmail.com / 158\n",
      "ihateyoualot.info / 192\n",
      "gowikimusic.com / 157\n",
      "PutThisInYourSpamDatabase.com / 204\n",
      "emailinfive.com / 185\n",
      "wetrainbayarea.org / 154\n",
      "emaildienst.de / 150\n",
      "viewcastmedia.net / 144\n",
      "spamday.com / 148\n",
      "gowikibooks.com / 169\n",
      "spamfree24.info / 157\n",
      "meinspamschutz.de / 168\n",
      "60minutemail.com / 173\n",
      "spamcannon.net / 202\n",
      "trash2009.com / 159\n",
      "irish2me.com / 183\n",
      "litedrop.com / 136\n",
      "wetrainbayarea.com / 168\n",
      "spamgourmet.com / 184\n",
      "xemaps.com / 161\n",
      "front14.org / 157\n",
      "fastmitsubishi.com / 152\n",
      "recursor.net / 183\n",
      "fastyamaha.com / 162\n",
      "emailwarden.com / 173\n",
      "kaspop.com / 154\n",
      "675hosting.com / 176\n",
      "guerillamail.net / 178\n",
      "trash-mail.de / 166\n",
      "trashmail.net / 153\n",
      "slaskpost.se / 161\n",
      "spamcowboy.net / 187\n",
      "mbx.cc / 151\n",
      "bumpymail.com / 152\n",
      "tempinbox.co.uk / 163\n",
      "10minutemail.com / 171\n",
      "hotpop.com / 167\n",
      "safersignup.de / 186\n",
      "spamcorptastic.com / 165\n",
      "greensloth.com / 140\n",
      "ypmail.webarnak.fr.eu.org / 159\n",
      "lhsdv.com / 149\n",
      "centermail.com / 171\n",
      "sofort-mail.de / 172\n",
      "chogmail.com / 156\n",
      "spambox.info / 158\n",
      "turual.com / 196\n",
      "pimpedupmyspace.com / 172\n",
      "no-spam.ws / 179\n",
      "xagloo.com / 185\n",
      "outlawspam.com / 174\n",
      "wuzupmail.net / 152\n",
      "pancakemail.com / 142\n",
      "spamfree24.de / 173\n",
      "baxomale.ht.cx / 168\n",
      "donemail.ru / 156\n",
      "kir.ch.tc / 174\n",
      "dump-email.info / 185\n",
      "spamfree24.eu / 172\n",
      "getonemail.net / 145\n",
      "lopl.co.cc / 162\n",
      "dayrep.com / 177\n",
      "deadspam.com / 177\n",
      "uggsrock.com / 154\n",
      "TempEMail.net / 145\n",
      "xents.com / 196\n",
      "trashmail.de / 180\n",
      "nobulk.com / 152\n",
      "9ox.net / 160\n",
      "msa.minsmail.com / 162\n",
      "nwldx.com / 161\n",
      "mail333.com / 179\n",
      "mailinator2.com / 160\n",
      "4warding.org / 169\n",
      "frapmail.com / 179\n",
      "quickinbox.com / 174\n",
      "temporarioemail.com.br / 151\n",
      "keepmymail.com / 194\n",
      "tradermail.info / 172\n",
      "devnullmail.com / 158\n",
      "fastacura.com / 182\n",
      "moburl.com / 176\n",
      "trashmail.me / 181\n",
      "myspacepimpedup.com / 157\n",
      "dispostable.com / 164\n",
      "supermailer.jp / 158\n",
      "discardmail.com / 169\n",
      "gowikigames.com / 167\n",
      "guerrillamail.com / 156\n",
      "spammotel.com / 163\n",
      "SpamHerePlease.com / 153\n",
      "curryworld.de / 180\n",
      "tempemail.com / 185\n",
      "ordinaryamerican.net / 155\n",
      "venompen.com / 154\n",
      "safe-mail.net / 163\n",
      "brefmail.com / 188\n",
      "spamcon.org / 167\n",
      "spamfree24.com / 179\n",
      "etranquil.org / 145\n",
      "0-mail.com / 162\n",
      "get2mail.fr / 181\n",
      "tempe-mail.com / 167\n",
      "s0ny.net / 163\n",
      "guerrillamailblock.com / 162\n",
      "xmaily.com / 161\n",
      "spamex.com / 140\n",
      "20minutemail.com / 187\n",
      "wwwnew.eu / 190\n",
      "correo.blogos.net / 170\n",
      "anonymbox.com / 150\n",
      "SendSpamHere.com / 160\n",
      "nospam.ze.tc / 143\n",
      "incognitomail.net / 184\n",
      "wuzup.net / 172\n",
      "0wnd.org / 148\n",
      "trash-mail.at / 149\n",
      "www.gishpuppy.com / 169\n",
      "iheartspam.org / 180\n",
      "spamcowboy.com / 174\n",
      "tempomail.fr / 160\n",
      "nogmailspam.info / 156\n",
      "courrieltemporaire.com / 161\n",
      "mailinater.com / 188\n",
      "junk1e.com / 166\n",
      "monemail.fr.nf / 185\n",
      "yogamaven.com / 138\n",
      "bodhi.lawlita.com / 161\n",
      "3d-painting.com / 164\n",
      "bobmail.info / 167\n",
      "tempmail.it / 163\n",
      "75hosting.org / 164\n",
      "wegwerfmail.de / 152\n",
      "wronghead.com / 175\n",
      "bio-muesli.net / 186\n",
      "wegwerfmail.org / 155\n",
      "fux0ringduh.com / 153\n",
      "nervmich.net / 178\n",
      "sneakemail.com / 149\n",
      "spam.su / 158\n",
      "ieatspam.info / 189\n",
      "webm4il.info / 161\n",
      "mailinator.net / 171\n",
      "binkmail.com / 161\n",
      "h.mintemail.com / 140\n",
      "yep.it / 175\n",
      "lortemail.dk / 152\n",
      "dontreg.com / 183\n",
      "smellfear.com / 180\n",
      "mailnesia.com / 169\n",
      "etranquil.net / 175\n",
      "75hosting.com / 166\n",
      "neomailbox.com / 193\n",
      "spam.la / 181\n",
      "lookugly.com / 176\n",
      "fakeinbox.com / 159\n",
      "rcpt.at / 158\n",
      "girlsundertheinfluence.com / 171\n",
      "spambog.de / 154\n",
      "spambob.org / 148\n",
      "maboard.com / 170\n",
      "thisisnotmyrealemail.com / 168\n",
      "fizmail.com / 154\n",
      "shiftmail.com / 147\n",
      "75hosting.net / 155\n",
      "spaminator.de / 162\n",
      "spaml.com / 159\n",
      "dodgit.org / 188\n",
      "trash-mail.com / 153\n",
      "0clickemail.com / 180\n",
      "despam.it / 168\n",
      "trashmail.org / 165\n",
      "bsnow.net / 174\n",
      "gowikicars.com / 170\n",
      "disposeamail.com / 153\n",
      "emailx.at.hm / 161\n",
      "trashmail.at / 157\n",
      "spambob.com / 169\n",
      "centermail.net / 162\n",
      "wegwerfemail.de / 157\n",
      "spamgourmet.org / 164\n",
      "sofimail.com / 155\n",
      "messagebeamer.de / 157\n",
      "yuurok.com / 164\n",
      "4warding.net / 152\n",
      "nepwk.com / 144\n",
      "viewcastmedia.com / 166\n",
      "dontsendmespam.de / 144\n",
      "saynotospams.com / 163\n",
      "emailtemporario.com.br / 177\n",
      "mailnator.com / 203\n",
      "mt2009.com / 136\n",
      "proxymail.eu / 173\n",
      "tempalias.com / 187\n",
      "mail2rss.org / 163\n",
      "trashmail.com / 172\n",
      "mailinator.com / 171\n",
      "spamtrail.com / 170\n",
      "amilegit.com / 174\n",
      "dfgh.net / 175\n",
      "myspaceinc.org / 153\n",
      "afrobacon.com / 161\n",
      "spamspot.com / 168\n",
      "dumpmail.de / 167\n",
      "killmail.net / 172\n",
      "myspaceinc.com / 153\n",
      "digitalsanctuary.com / 181\n",
      "nervtmich.net / 150\n",
      "temporaryemail.net / 170\n",
      "spamhole.com / 163\n"
     ]
    }
   ],
   "source": [
    "email_named_re = re.compile(\"^\\s*(?P<name>[a-zA-Z\\-]+)[\\._!](?P<surname>[a-zA-Z]+)(?P<intnum>\\d*)@(?P<domain>[\\w\\.\\-_]+)\\s+\\d+$\")\n",
    "\n",
    "domains = {}\n",
    "\n",
    "fin = open(\"ex-data/email.txt\", 'r')\n",
    "for line in fin:\n",
    "    line = line.strip('\\n')\n",
    "    m = email_named_re.match(line)\n",
    "    d = m.group('domain')\n",
    "    if d in domains:\n",
    "        domains[d] += 1\n",
    "    else:\n",
    "        domains[d] = 1\n",
    "fin.close()\n",
    "\n",
    "for d in domains:\n",
    "    print(\"{} / {}\".format(d, domains[d]))"
   ]
  },
  {
   "cell_type": "markdown",
   "metadata": {},
   "source": [
    "**3)** The file `ex-data/exp_nums.txt` contains 100 lines.  Each line contains a number in [E-notation](https://en.wikipedia.org/wiki/Scientific_notation#E-notation).  Convert each number to its decimal representation."
   ]
  },
  {
   "cell_type": "code",
   "execution_count": 21,
   "metadata": {
    "scrolled": true
   },
   "outputs": [
    {
     "name": "stdout",
     "output_type": "stream",
     "text": [
      "Exp:    2.19925e5 \t Dec:   219925.00000000003\n",
      "Exp:    2.98685e3 \t Dec:              2986.85\n",
      "Exp:    1.40469e2 \t Dec:              140.469\n",
      "Exp:    2.75051e7 \t Dec:   27505099.999999996\n",
      "Exp:    3.37623e3 \t Dec:              3376.23\n",
      "Exp:    2.62878e4 \t Dec:              26287.8\n",
      "Exp:    1.24722e2 \t Dec:              124.722\n",
      "Exp:    3.69233e4 \t Dec:              36923.3\n",
      "Exp:     2.5466e2 \t Dec:   254.66000000000003\n",
      "Exp:    3.77231e2 \t Dec:              377.231\n",
      "Exp:    1.55855e4 \t Dec:   15585.500000000002\n",
      "Exp:    2.64698e3 \t Dec:              2646.98\n",
      "Exp:    3.19381e3 \t Dec:              3193.81\n",
      "Exp:    2.77834e6 \t Dec:            2778340.0\n",
      "Exp:    3.86588e7 \t Dec:           38658800.0\n",
      "Exp:   3.80454e-1 \t Dec:             0.380454\n",
      "Exp:   3.34377e-1 \t Dec:  0.33437700000000004\n",
      "Exp:    2.28575e7 \t Dec:           22857500.0\n",
      "Exp:    2.17343e6 \t Dec:            2173430.0\n",
      "Exp:    1.53285e7 \t Dec:           15328500.0\n",
      "Exp:    1.69785e6 \t Dec:            1697850.0\n",
      "Exp:    2.38438e6 \t Dec:            2384380.0\n",
      "Exp:    3.65304e3 \t Dec:              3653.04\n",
      "Exp:    2.84477e3 \t Dec:              2844.77\n",
      "Exp:     2.7075e7 \t Dec:           27075000.0\n",
      "Exp:    2.03429e1 \t Dec:              20.3429\n",
      "Exp:    2.37214e7 \t Dec:           23721400.0\n",
      "Exp:    1.19906e5 \t Dec:             119906.0\n",
      "Exp:    3.23418e5 \t Dec:             323418.0\n",
      "Exp:    1.26422e5 \t Dec:   126421.99999999999\n",
      "Exp:   2.93709e-2 \t Dec: 0.029370900000000002\n",
      "Exp:    3.33279e1 \t Dec:              33.3279\n",
      "Exp:      2.343e2 \t Dec:                234.3\n",
      "Exp:     1.0437e1 \t Dec:   10.437000000000001\n",
      "Exp:    1.64359e3 \t Dec:   1643.5900000000001\n",
      "Exp:    2.76033e2 \t Dec:              276.033\n",
      "Exp:    1.35735e6 \t Dec:            1357350.0\n",
      "Exp:   1.86114e-1 \t Dec:             0.186114\n",
      "Exp:    2.47211e3 \t Dec:   2472.1099999999997\n",
      "Exp:    3.32866e6 \t Dec:            3328660.0\n",
      "Exp:    2.65842e2 \t Dec:              265.842\n",
      "Exp:   1.08157e-1 \t Dec:             0.108157\n",
      "Exp:    3.34029e4 \t Dec:              33402.9\n",
      "Exp:    2.43239e6 \t Dec:            2432390.0\n",
      "Exp:    1.79766e2 \t Dec:              179.766\n",
      "Exp:   3.72729e-1 \t Dec:  0.37272900000000003\n",
      "Exp:    2.81381e2 \t Dec:   281.38100000000003\n",
      "Exp:    1.72143e2 \t Dec:              172.143\n",
      "Exp:    1.26933e7 \t Dec:           12693300.0\n",
      "Exp:     3.1513e6 \t Dec:            3151300.0\n",
      "Exp:    3.61113e1 \t Dec:              36.1113\n",
      "Exp:    1.22929e6 \t Dec:            1229290.0\n",
      "Exp:    2.33932e6 \t Dec:            2339320.0\n",
      "Exp:    2.73213e7 \t Dec:           27321300.0\n",
      "Exp:    2.6866e-1 \t Dec:              0.26866\n",
      "Exp:    2.54565e5 \t Dec:   254565.00000000003\n",
      "Exp:    1.13565e2 \t Dec:              113.565\n",
      "Exp:    2.62659e4 \t Dec:              26265.9\n",
      "Exp:   3.47746e-1 \t Dec:  0.34774600000000006\n",
      "Exp:    3.96523e1 \t Dec:              39.6523\n",
      "Exp:    2.53572e3 \t Dec:              2535.72\n",
      "Exp:   1.99408e-1 \t Dec:  0.19940800000000003\n",
      "Exp:      1.032e4 \t Dec:              10320.0\n",
      "Exp:   2.58107e-1 \t Dec:  0.25810700000000003\n",
      "Exp:    3.23867e4 \t Dec:              32386.7\n",
      "Exp:    3.63513e1 \t Dec:              36.3513\n",
      "Exp:    2.57521e7 \t Dec:   25752100.000000004\n",
      "Exp:    3.67601e3 \t Dec:              3676.01\n",
      "Exp:     1.3661e1 \t Dec:   13.661000000000001\n",
      "Exp:    2.32589e1 \t Dec:   23.258899999999997\n",
      "Exp:    2.22822e2 \t Dec:   222.82199999999997\n",
      "Exp:    2.06575e2 \t Dec:              206.575\n",
      "Exp:    3.61911e2 \t Dec:              361.911\n",
      "Exp:    2.25123e5 \t Dec:             225123.0\n",
      "Exp:    1.32412e2 \t Dec:              132.412\n",
      "Exp:    2.05124e7 \t Dec:           20512400.0\n",
      "Exp:    3.22858e7 \t Dec:           32285800.0\n",
      "Exp:    1.32067e4 \t Dec:              13206.7\n",
      "Exp:   2.89121e-1 \t Dec:             0.289121\n",
      "Exp:    1.62795e7 \t Dec:           16279500.0\n",
      "Exp:    1.07417e7 \t Dec:           10741700.0\n",
      "Exp:    2.71401e6 \t Dec:            2714010.0\n",
      "Exp:    1.88581e4 \t Dec:              18858.1\n",
      "Exp:     3.0225e6 \t Dec:            3022500.0\n",
      "Exp:    2.81628e4 \t Dec:              28162.8\n",
      "Exp:    1.68942e2 \t Dec:   168.94199999999998\n",
      "Exp:   1.01011e-2 \t Dec:            0.0101011\n",
      "Exp:     1.0975e3 \t Dec:               1097.5\n",
      "Exp:    2.52638e1 \t Dec:              25.2638\n",
      "Exp:    1.38885e2 \t Dec:              138.885\n",
      "Exp:    2.69167e7 \t Dec:   26916699.999999996\n",
      "Exp:    1.35398e7 \t Dec:           13539800.0\n",
      "Exp:    3.13391e6 \t Dec:            3133910.0\n",
      "Exp:    3.81922e4 \t Dec:              38192.2\n",
      "Exp:   3.78943e-2 \t Dec:            0.0378943\n",
      "Exp:   1.25749e-2 \t Dec:            0.0125749\n",
      "Exp:    1.64834e1 \t Dec:              16.4834\n",
      "Exp:    1.28032e4 \t Dec:   12803.199999999999\n",
      "Exp:    3.95787e1 \t Dec:   39.578700000000005\n",
      "Exp:    2.70101e3 \t Dec:              2701.01\n"
     ]
    }
   ],
   "source": [
    "exp_num_named_re = re.compile(\"^(?P<number>\\d+.\\d+)e(?P<exp>-*\\d+)$\")\n",
    "\n",
    "fin = open(\"ex-data/exp_nums.txt\", 'r')\n",
    "for line in fin:\n",
    "    line = line.strip('\\n')\n",
    "    m = exp_num_named_re.match(line)\n",
    "    n = float(m.group('number'))\n",
    "    e = int(m.group('exp'))\n",
    "    print(\"Exp: {:>12} \\t Dec: {:>20}\".format(line, n*(10**e)))\n",
    "fin.close()"
   ]
  },
  {
   "cell_type": "markdown",
   "metadata": {},
   "source": [
    "4) [CamelCase](https://en.wikipedia.org/wiki/Camel_case) and [snake_case](https://en.wikipedia.org/wiki/Snake_case) two different ways to name variables.  Write a function (`camel_to_snake`) that converts a string in CamelCase to snake_case."
   ]
  },
  {
   "cell_type": "code",
   "execution_count": 22,
   "metadata": {},
   "outputs": [],
   "source": [
    "def camel_to_snake(camelString):\n",
    "    s1 = re.sub('(.)([A-Z][a-z]+)', r'\\1_\\2', camelString)\n",
    "    snake_string = re.sub('([a-z])([A-Z]+)', r'\\1_\\2', s1)\n",
    "    return snake_string"
   ]
  },
  {
   "cell_type": "code",
   "execution_count": 23,
   "metadata": {},
   "outputs": [
    {
     "name": "stdout",
     "output_type": "stream",
     "text": [
      "Camel_Camel_Camel\n"
     ]
    }
   ],
   "source": [
    "print(camel_to_snake('CamelCamelCamel'))\n",
    "# Must print camel_camel_camel"
   ]
  }
 ],
 "metadata": {
  "kernelspec": {
   "display_name": "Python 3 (ipykernel)",
   "language": "python",
   "name": "python3"
  },
  "language_info": {
   "codemirror_mode": {
    "name": "ipython",
    "version": 3
   },
   "file_extension": ".py",
   "mimetype": "text/x-python",
   "name": "python",
   "nbconvert_exporter": "python",
   "pygments_lexer": "ipython3",
   "version": "3.10.6"
  }
 },
 "nbformat": 4,
 "nbformat_minor": 4
}
