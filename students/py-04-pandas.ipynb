{
 "cells": [
  {
   "cell_type": "markdown",
   "metadata": {},
   "source": [
    "## Read the files 2017_german_election_overall.csv and 2017_german_election_party.csv from the german-election-2017 dataset.\n",
    "\n",
    "*  [Overall data](https://github.com/gdv/foundationsCS/raw/main/students/ex-data/german-election-2017/2017_german_election_overall.csv)\n",
    "*  [Single party data](https://github.com/gdv/foundationsCS/raw/main/students/ex-data/german-election-2017/2017_german_election_party.csv)"
   ]
  },
  {
   "cell_type": "markdown",
   "metadata": {},
   "source": [
    "## For each area, compute the percentage of the voters over the registered voters"
   ]
  },
  {
   "cell_type": "markdown",
   "metadata": {},
   "source": [
    "## For each state, compute the total number of registered voters\n",
    "\n",
    "Hint: Since we do not know (yet) how to group rows, but we know how to select some rows, we can compute the set of all states, then for each state we can compute the total number of voters.\n",
    "\n",
    "Hint: Compute the list of states"
   ]
  },
  {
   "cell_type": "markdown",
   "metadata": {},
   "source": [
    "## How many registered voters are there in Bayern or Saarland (compute the voters in each state and the sum of the two numbers)"
   ]
  },
  {
   "cell_type": "markdown",
   "metadata": {},
   "source": [
    "## For each state, compute the number of votes (first vote) for each party\n",
    "\n",
    "Hint: compute the list of parties."
   ]
  },
  {
   "cell_type": "markdown",
   "metadata": {},
   "source": [
    "## For each state and each party, compute the area where the party has taken most total votes"
   ]
  }
 ],
 "metadata": {
  "kernelspec": {
   "display_name": "Python 3 (ipykernel)",
   "language": "python",
   "name": "python3"
  },
  "language_info": {
   "codemirror_mode": {
    "name": "ipython",
    "version": 3
   },
   "file_extension": ".py",
   "mimetype": "text/x-python",
   "name": "python",
   "nbconvert_exporter": "python",
   "pygments_lexer": "ipython3",
   "version": "3.10.6"
  }
 },
 "nbformat": 4,
 "nbformat_minor": 4
}
