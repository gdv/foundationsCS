{
 "cells": [
  {
   "cell_type": "markdown",
   "metadata": {},
   "source": [
    "## Read the files 2017_german_election_overall.csv and 2017_german_election_party.csv from the german-election-2017 dataset.\n",
    "\n",
    "*  [Overall data](https://github.com/gdv/foundationsCS/raw/main/students/ex-data/german-election-2017/2017_german_election_overall.csv)\n",
    "*  [Single party data](https://github.com/gdv/foundationsCS/raw/main/students/ex-data/german-election-2017/2017_german_election_party.csv)"
   ]
  },
  {
   "cell_type": "code",
   "execution_count": 2,
   "metadata": {
    "tags": [
     "show"
    ]
   },
   "outputs": [],
   "source": [
    "import pandas as pd"
   ]
  },
  {
   "cell_type": "markdown",
   "metadata": {
    "tags": [
     "hide"
    ]
   },
   "source": [
    "To write the correct path to the dataset, I have to know what is the current directory"
   ]
  },
  {
   "cell_type": "code",
   "execution_count": 3,
   "metadata": {},
   "outputs": [
    {
     "name": "stdout",
     "output_type": "stream",
     "text": [
      " ex-01-lists.ipynb\n",
      " ex-02-dicts.ipynb\n",
      " ex-02-RE.ipynb\n",
      " ex-02-RE-solution-full.ipynb\n",
      " ex-03-books.ipynb\n",
      " ex-03-Debug.ipynb\n",
      " ex-05-files.ipynb\n",
      " \u001b[0m\u001b[01;36mex-data\u001b[0m@\n",
      " \u001b[01;36mimg\u001b[0m@\n",
      " lecture-py-01-basics.ipynb\n",
      " lecture-py-02-basic-python.ipynb\n",
      " lecture-py-03-markdown.ipynb\n",
      " lecture-py-04-functions-libraries.ipynb\n",
      " lecture-py-05-files.ipynb\n",
      " lecture-py-06-intro-to-pandas.ipynb\n",
      " lecture-py-07-groupby-apply-idxmax.ipynb\n",
      " lecture-py-08-null-join.ipynb\n",
      " lecture-py-09-zip-datetime-str.ipynb\n",
      " lecture-py-10-concat-comprehension.ipynb\n",
      " manage-northwind.ipynb\n",
      " py-04-pandas.ipynb\n",
      " py-05-groupby.ipynb\n",
      " py-07-multindex.ipynb\n",
      " py-08-merging.ipynb\n",
      " py-09-Apache.ipynb\n",
      " py-10-happiness.ipynb\n",
      " py-11-f1.ipynb\n",
      " py-12-TED.ipynb\n",
      " py-13-employees.ipynb\n",
      " py-14-fifa-solution.ipynb\n",
      "'Student version.ipynb'\n"
     ]
    }
   ],
   "source": [
    "!ls"
   ]
  }
 ],
 "metadata": {
  "kernelspec": {
   "display_name": "Python 3 (ipykernel)",
   "language": "python",
   "name": "python3"
  },
  "language_info": {
   "codemirror_mode": {
    "name": "ipython",
    "version": 3
   },
   "file_extension": ".py",
   "mimetype": "text/x-python",
   "name": "python",
   "nbconvert_exporter": "python",
   "pygments_lexer": "ipython3",
   "version": "3.10.6"
  }
 },
 "nbformat": 4,
 "nbformat_minor": 4
}
