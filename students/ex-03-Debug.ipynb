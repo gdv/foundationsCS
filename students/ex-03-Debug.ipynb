{
 "cells": [
  {
   "cell_type": "markdown",
   "metadata": {},
   "source": [
    "# Debugging and Fixing errors\n",
    "\n",
    "The following code snippets have bugs; fix them."
   ]
  },
  {
   "cell_type": "code",
   "execution_count": 1,
   "metadata": {
    "tags": [
     "show_output"
    ]
   },
   "outputs": [],
   "source": [
    "import unittest"
   ]
  },
  {
   "cell_type": "markdown",
   "metadata": {},
   "source": [
    "## Code snippet \\#1\n",
    "\n",
    "The function `create_list(x, count)` should return a list composed by \"count\" elements and each element should be set to \"x\"."
   ]
  },
  {
   "cell_type": "code",
   "execution_count": 2,
   "metadata": {
    "tags": [
     "show_output"
    ]
   },
   "outputs": [],
   "source": [
    "def create_list(x, count):\n",
    "    y = [[x] for _ in range(count)]\n",
    "    return y"
   ]
  },
  {
   "cell_type": "markdown",
   "metadata": {},
   "source": [
    "## Code snippet \\#2\n",
    "\n",
    "The function `create_dict(kv)` accepts a list composed by pairs.\n",
    "Each pair is composed by two elements: a key (first element) and a value (second element).\n",
    "The function must return a dictionary that maps each key to the corresponding value."
   ]
  },
  {
   "cell_type": "code",
   "execution_count": 3,
   "metadata": {
    "tags": [
     "show_output"
    ]
   },
   "outputs": [],
   "source": [
    "def create_dict(kv):\n",
    "    d = {}\n",
    "    for val, key in kv:\n",
    "        d[key] = val\n",
    "    return d"
   ]
  },
  {
   "cell_type": "markdown",
   "metadata": {},
   "source": [
    "## Code snippet \\#3\n",
    "\n",
    "The function `append_element_to_list` accepts two arguments (an element and a list) and returns the concatenation of the two (the element is appended at the end of the list).\n",
    "\n",
    "The second argument is optional and, if missing, the empty list must be used as second argument."
   ]
  },
  {
   "cell_type": "code",
   "execution_count": 4,
   "metadata": {
    "tags": [
     "show_output"
    ]
   },
   "outputs": [],
   "source": [
    "def append_element_to_list(x, y=[]):\n",
    "    y.append(x)\n",
    "    return y"
   ]
  },
  {
   "cell_type": "markdown",
   "metadata": {},
   "source": [
    "# Tests\n",
    "\n",
    "Do NOT modify the next cell but run it as-is.  To fix failures in the tests, modify the code in the previous cells."
   ]
  },
  {
   "cell_type": "code",
   "execution_count": 5,
   "metadata": {
    "tags": [
     "show_output"
    ]
   },
   "outputs": [
    {
     "name": "stderr",
     "output_type": "stream",
     "text": [
      "test_append_element_to_list (__main__.TestClass) ... FAIL\n",
      "test_create_dict (__main__.TestClass) ... FAIL\n",
      "test_create_list (__main__.TestClass) ... FAIL\n",
      "\n",
      "======================================================================\n",
      "FAIL: test_append_element_to_list (__main__.TestClass)\n",
      "----------------------------------------------------------------------\n",
      "Traceback (most recent call last):\n",
      "  File \"<ipython-input-5-39ab68b4fce8>\", line 27, in test_append_element_to_list\n",
      "    self.assertEqual(d, [4])\n",
      "AssertionError: Lists differ: [1, 2, 3, 4] != [4]\n",
      "\n",
      "First differing element 0:\n",
      "1\n",
      "4\n",
      "\n",
      "First list contains 3 additional elements.\n",
      "First extra element 1:\n",
      "2\n",
      "\n",
      "- [1, 2, 3, 4]\n",
      "+ [4]\n",
      "\n",
      "======================================================================\n",
      "FAIL: test_create_dict (__main__.TestClass)\n",
      "----------------------------------------------------------------------\n",
      "Traceback (most recent call last):\n",
      "  File \"<ipython-input-5-39ab68b4fce8>\", line 14, in test_create_dict\n",
      "    self.assertEqual(create_dict(keys_values), expected_output)\n",
      "AssertionError: {3: 'c', 2: 'b', 15: 'd', 1: 'e'} != {'a': 3, 'b': 2, 'c': 3, 'd': 15, 'e': 1}\n",
      "- {1: 'e', 2: 'b', 3: 'c', 15: 'd'}\n",
      "+ {'a': 3, 'b': 2, 'c': 3, 'd': 15, 'e': 1}\n",
      "\n",
      "======================================================================\n",
      "FAIL: test_create_list (__main__.TestClass)\n",
      "----------------------------------------------------------------------\n",
      "Traceback (most recent call last):\n",
      "  File \"<ipython-input-5-39ab68b4fce8>\", line 4, in test_create_list\n",
      "    self.assertEqual(create_list(2, 4), [2, 2, 2, 2])\n",
      "AssertionError: Lists differ: [[2], [2], [2], [2]] != [2, 2, 2, 2]\n",
      "\n",
      "First differing element 0:\n",
      "[2]\n",
      "2\n",
      "\n",
      "- [[2], [2], [2], [2]]\n",
      "+ [2, 2, 2, 2]\n",
      "\n",
      "----------------------------------------------------------------------\n",
      "Ran 3 tests in 0.005s\n",
      "\n",
      "FAILED (failures=3)\n"
     ]
    },
    {
     "data": {
      "text/plain": [
       "<unittest.main.TestProgram at 0x7f0e4439eaf0>"
      ]
     },
     "execution_count": 5,
     "metadata": {},
     "output_type": "execute_result"
    }
   ],
   "source": [
    "class TestClass(unittest.TestCase):\n",
    "    \n",
    "    def test_create_list(self):\n",
    "        self.assertEqual(create_list(2, 4), [2, 2, 2, 2])\n",
    "        self.assertEqual(create_list(2, 0), [])\n",
    "\n",
    "    def test_create_dict(self):\n",
    "        keys_values = (('a', 3), ('b', 2), ('c', 3), ('d', 15), ('e', 1))\n",
    "        expected_output = {'a' : 3,\n",
    "                           'b':  2,\n",
    "                           'c' : 3,\n",
    "                           'd' : 15,\n",
    "                           'e' : 1}\n",
    "        self.assertEqual(create_dict(keys_values), expected_output)\n",
    "    \n",
    "    def test_append_element_to_list(self):\n",
    "        a = append_element_to_list(1)\n",
    "        self.assertEqual(a, [1])\n",
    "        \n",
    "        b = append_element_to_list(2, a)\n",
    "        self.assertEqual(b, [1, 2])\n",
    "        \n",
    "        c = append_element_to_list(3, b)\n",
    "        self.assertEqual(c, [1, 2, 3])\n",
    "        \n",
    "        d = append_element_to_list(4)\n",
    "        self.assertEqual(d, [4])\n",
    "                \n",
    "        e = append_element_to_list(5, a)\n",
    "        self.assertEqual(e, [1, 5])\n",
    "\n",
    "unittest.main(argv=[''], verbosity=2, exit=False)"
   ]
  }
 ],
 "metadata": {
  "kernelspec": {
   "display_name": "Python 3 (ipykernel)",
   "language": "python",
   "name": "python3"
  },
  "language_info": {
   "codemirror_mode": {
    "name": "ipython",
    "version": 3
   },
   "file_extension": ".py",
   "mimetype": "text/x-python",
   "name": "python",
   "nbconvert_exporter": "python",
   "pygments_lexer": "ipython3",
   "version": "3.10.6"
  }
 },
 "nbformat": 4,
 "nbformat_minor": 4
}
