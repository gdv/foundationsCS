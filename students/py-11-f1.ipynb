{
 "cells": [
  {
   "cell_type": "markdown",
   "metadata": {
    "editable": true,
    "slideshow": {
     "slide_type": ""
    },
    "tags": []
   },
   "source": [
    "Analyze the Formula 1 dataset. The files are:\n",
    "\n",
    "*  [circuits.csv](https://github.com/gdv/foundationsCS/raw/main/students/ex-data/f1-db/circuits.csv)\n",
    "*  [circuits_bkp.csv](https://github.com/gdv/foundationsCS/raw/main/students/ex-data/f1-db/circuits_bkp.csv)\n",
    "*  [constructorResults.csv](https://github.com/gdv/foundationsCS/raw/main/students/ex-data/f1-db/constructorResults.csv)\n",
    "*  [constructorStandings.csv](https://github.com/gdv/foundationsCS/raw/main/students/ex-data/f1-db/constructorStandings.csv)\n",
    "*  [constructors.csv](https://github.com/gdv/foundationsCS/raw/main/students/ex-data/f1-db/constructors.csv)\n",
    "*  [driverStandings.csv](https://github.com/gdv/foundationsCS/raw/main/students/ex-data/f1-db/driverStandings.csv)\n",
    "*  [drivers.csv](https://github.com/gdv/foundationsCS/raw/main/students/ex-data/f1-db/drivers.csv)\n",
    "*  [drivers_bkp.csv](https://github.com/gdv/foundationsCS/raw/main/students/ex-data/f1-db/drivers_bkp.csv)\n",
    "*  [lapTimes.csv](https://github.com/gdv/foundationsCS/raw/main/students/ex-data/f1-db/lapTimes.csv)\n",
    "*  [pitStops.csv](https://github.com/gdv/foundationsCS/raw/main/students/ex-data/f1-db/pitStops.csv)\n",
    "*  [qualifying.csv](https://github.com/gdv/foundationsCS/raw/main/students/ex-data/f1-db/qualifying.csv)\n",
    "*  [races.csv](https://github.com/gdv/foundationsCS/raw/main/students/ex-data/f1-db/races.csv)\n",
    "*  [results.csv](https://github.com/gdv/foundationsCS/raw/main/students/ex-data/f1-db/results.csv)\n",
    "*  [seasons.csv](https://github.com/gdv/foundationsCS/raw/main/students/ex-data/f1-db/seasons.csv)\n",
    "*  [status.csv](https://github.com/gdv/foundationsCS/raw/main/students/ex-data/f1-db/status.csv)"
   ]
  },
  {
   "cell_type": "markdown",
   "metadata": {},
   "source": [
    "## For each decade, compute who is the driver born in that decade that scored more points in his career."
   ]
  },
  {
   "cell_type": "markdown",
   "metadata": {
    "editable": true,
    "slideshow": {
     "slide_type": ""
    },
    "tags": []
   },
   "source": [
    "## For each circuit, find the fastest lap and output it with: (1) the date it was perfomed, (2) the name of the driver, and (3) the lap time"
   ]
  },
  {
   "cell_type": "markdown",
   "metadata": {
    "editable": true,
    "slideshow": {
     "slide_type": ""
    },
    "tags": []
   },
   "source": [
    "## Find the driver that has spent the most time performing pit stops"
   ]
  },
  {
   "cell_type": "markdown",
   "metadata": {
    "editable": true,
    "slideshow": {
     "slide_type": ""
    },
    "tags": []
   },
   "source": [
    "## For each nationality, find the driver that scored most points in their career"
   ]
  },
  {
   "cell_type": "markdown",
   "metadata": {
    "editable": true,
    "slideshow": {
     "slide_type": ""
    },
    "tags": []
   },
   "source": [
    "## Find the nations that have at least one driver with at least 1000 points"
   ]
  },
  {
   "cell_type": "markdown",
   "metadata": {
    "editable": true,
    "slideshow": {
     "slide_type": ""
    },
    "tags": []
   },
   "source": [
    "## Find the nations that have at least two drivers with at least 1000 points"
   ]
  }
 ],
 "metadata": {
  "kernelspec": {
   "display_name": "Python 3 (ipykernel)",
   "language": "python",
   "name": "python3"
  },
  "language_info": {
   "codemirror_mode": {
    "name": "ipython",
    "version": 3
   },
   "file_extension": ".py",
   "mimetype": "text/x-python",
   "name": "python",
   "nbconvert_exporter": "python",
   "pygments_lexer": "ipython3",
   "version": "3.11.5"
  }
 },
 "nbformat": 4,
 "nbformat_minor": 4
}
